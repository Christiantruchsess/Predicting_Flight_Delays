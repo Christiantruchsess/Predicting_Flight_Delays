{
 "cells": [
  {
   "cell_type": "code",
   "execution_count": 27,
   "metadata": {},
   "outputs": [],
   "source": [
    "import psycopg2\n",
    "import pandas as pd\n",
    "from datetime import date\n",
    "from datetime import timedelta"
   ]
  },
  {
   "cell_type": "code",
   "execution_count": 4,
   "metadata": {},
   "outputs": [],
   "source": [
    "conn = psycopg2.connect(\n",
    "    host=\"mid-term-project.ca2jkepgjpne.us-east-2.rds.amazonaws.com\",\n",
    "    database=\"mid_term_project\",\n",
    "    user=\"lhl_student\",\n",
    "    password=\"lhl_student\")"
   ]
  },
  {
   "cell_type": "code",
   "execution_count": 5,
   "metadata": {},
   "outputs": [],
   "source": [
    "cur = conn.cursor()"
   ]
  },
  {
   "cell_type": "code",
   "execution_count": null,
   "metadata": {},
   "outputs": [],
   "source": [
    "#Dates to query 2019-01-01 till 2019-12-31"
   ]
  },
  {
   "cell_type": "code",
   "execution_count": 18,
   "metadata": {},
   "outputs": [],
   "source": [
    "fromDate = date(2019,1,1)"
   ]
  },
  {
   "cell_type": "code",
   "execution_count": null,
   "metadata": {},
   "outputs": [],
   "source": [
    "tillDate = date(2019, 12, 31)"
   ]
  },
  {
   "cell_type": "code",
   "execution_count": 25,
   "metadata": {},
   "outputs": [
    {
     "data": {
      "text/plain": [
       "'20190101'"
      ]
     },
     "execution_count": 25,
     "metadata": {},
     "output_type": "execute_result"
    }
   ],
   "source": [
    "fromDate.strftime('%Y%m%d')"
   ]
  },
  {
   "cell_type": "code",
   "execution_count": 28,
   "metadata": {},
   "outputs": [],
   "source": [
    "delta1 = timedelta(days=1)"
   ]
  },
  {
   "cell_type": "code",
   "execution_count": 29,
   "metadata": {},
   "outputs": [],
   "source": [
    "fromDate=fromDate+delta1"
   ]
  },
  {
   "cell_type": "code",
   "execution_count": 30,
   "metadata": {},
   "outputs": [
    {
     "data": {
      "text/plain": [
       "datetime.date(2019, 1, 2)"
      ]
     },
     "execution_count": 30,
     "metadata": {},
     "output_type": "execute_result"
    }
   ],
   "source": [
    "fromDate"
   ]
  },
  {
   "cell_type": "code",
   "execution_count": 31,
   "metadata": {},
   "outputs": [],
   "source": [
    "list_of_columns= ['fl_date', 'mkt_unique_carrier', 'branded_code_share', 'mkt_carrier', 'mkt_carrier_fl_num', \n",
    "                  'op_unique_carrier', 'tail_num', 'op_carrier_fl_num', 'origin_airport_id', 'origin', 'origin_city_name', \n",
    "                  'dest_airport_id', 'dest', 'dest_city_name', 'crs_dep_time', 'dep_time', 'dep_delay', 'taxi_out', \n",
    "                  'wheels_off', 'wheels_on', 'taxi_in', 'crs_arr_time', 'arr_time', 'arr_delay', 'cancelled', \n",
    "                  'cancellation_code', 'diverted', 'dup', 'crs_elapsed_time', 'actual_elapsed_time', \n",
    "                  'air_time', 'flights', 'distance', 'carrier_delay', 'weather_delay', 'nas_delay', 'security_delay', \n",
    "                  'late_aircraft_delay', 'first_dep_time', 'total_add_gtime', 'longest_add_gtime', 'no_name']"
   ]
  },
  {
   "cell_type": "code",
   "execution_count": null,
   "metadata": {},
   "outputs": [],
   "source": [
    "flights_df = pd.DataFrame(columns=list_of_columns)"
   ]
  },
  {
   "cell_type": "code",
   "execution_count": null,
   "metadata": {},
   "outputs": [],
   "source": []
  },
  {
   "cell_type": "code",
   "execution_count": 6,
   "metadata": {},
   "outputs": [],
   "source": [
    "sql=\"\"\"SELECT *  FROM flights\n",
    "WHERE fl_date >='20190101 00:00:00.000' and op_unique_carrier = 'DL' LIMIT 10;\"\"\""
   ]
  },
  {
   "cell_type": "code",
   "execution_count": 7,
   "metadata": {},
   "outputs": [],
   "source": [
    "cur.execute(sql)"
   ]
  },
  {
   "cell_type": "code",
   "execution_count": 8,
   "metadata": {},
   "outputs": [],
   "source": [
    "rows = cur.fetchall()"
   ]
  },
  {
   "cell_type": "code",
   "execution_count": 10,
   "metadata": {},
   "outputs": [
    {
     "name": "stdout",
     "output_type": "stream",
     "text": [
      "('2019-08-08', 'DL', 'DL', 'DL', 1695, 'DL', 'N674DL', 1695, 14869, 'SLC', 'Salt Lake City, UT', 13487, 'MSP', 'Minneapolis, MN', 2030, 2104.0, 34.0, 14.0, 2118.0, 10.0, 3.0, 2359, 13.0, 14.0, 0.0, None, 0.0, 'N', 149.0, 129.0, 112.0, 1.0, 991.0, None, None, None, None, None, None, None, None, None)\n",
      "\n",
      "('2019-08-08', 'DL', 'DL', 'DL', 1696, 'DL', 'N866DN', 1696, 10397, 'ATL', 'Atlanta, GA', 10529, 'BDL', 'Hartford, CT', 910, 906.0, -4.0, 16.0, 922.0, 1118.0, 3.0, 1123, 1121.0, -2.0, 0.0, None, 0.0, 'N', 133.0, 135.0, 116.0, 1.0, 859.0, None, None, None, None, None, None, None, None, None)\n",
      "\n",
      "('2019-08-08', 'DL', 'DL', 'DL', 1696, 'DL', 'N866DN', 1696, 10529, 'BDL', 'Hartford, CT', 10397, 'ATL', 'Atlanta, GA', 1221, 1222.0, 1.0, 12.0, 1234.0, 1427.0, 7.0, 1455, 1434.0, -21.0, 0.0, None, 0.0, 'N', 154.0, 132.0, 113.0, 1.0, 859.0, None, None, None, None, None, None, None, None, None)\n",
      "\n",
      "('2019-08-08', 'DL', 'DL', 'DL', 1697, 'DL', 'N337NW', 1697, 12264, 'IAD', 'Washington, DC', 10397, 'ATL', 'Atlanta, GA', 700, None, None, None, None, None, None, 846, None, None, 1.0, 'A', 0.0, 'N', 106.0, None, None, 1.0, 534.0, None, None, None, None, None, None, None, None, None)\n",
      "\n",
      "('2019-08-08', 'DL', 'DL', 'DL', 1698, 'DL', 'N959AT', 1698, 10620, 'BIL', 'Billings, MT', 14869, 'SLC', 'Salt Lake City, UT', 600, 552.0, -8.0, 10.0, 602.0, 658.0, 6.0, 719, 704.0, -15.0, 0.0, None, 0.0, 'N', 79.0, 72.0, 56.0, 1.0, 387.0, None, None, None, None, None, None, None, None, None)\n",
      "\n",
      "('2019-08-08', 'DL', 'DL', 'DL', 1699, 'DL', 'N908DL', 1699, 10397, 'ATL', 'Atlanta, GA', 13577, 'MYR', 'Myrtle Beach, SC', 1248, 1244.0, -4.0, 14.0, 1258.0, 1344.0, 4.0, 1401, 1348.0, -13.0, 0.0, None, 0.0, 'N', 73.0, 64.0, 46.0, 1.0, 317.0, None, None, None, None, None, None, None, None, None)\n",
      "\n",
      "('2019-08-08', 'DL', 'DL', 'DL', 1699, 'DL', 'N908DL', 1699, 13577, 'MYR', 'Myrtle Beach, SC', 10397, 'ATL', 'Atlanta, GA', 1445, 1441.0, -4.0, 13.0, 1454.0, 1546.0, 8.0, 1609, 1554.0, -15.0, 0.0, None, 0.0, 'N', 84.0, 73.0, 52.0, 1.0, 317.0, None, None, None, None, None, None, None, None, None)\n",
      "\n",
      "('2019-08-08', 'DL', 'DL', 'DL', 1700, 'DL', 'N3769L', 1700, 10397, 'ATL', 'Atlanta, GA', 14893, 'SMF', 'Sacramento, CA', 855, 855.0, 0.0, 15.0, 910.0, 1031.0, 5.0, 1044, 1036.0, -8.0, 0.0, None, 0.0, 'N', 289.0, 281.0, 261.0, 1.0, 2092.0, None, None, None, None, None, None, None, None, None)\n",
      "\n",
      "('2019-08-08', 'DL', 'DL', 'DL', 1700, 'DL', 'N3769L', 1700, 14893, 'SMF', 'Sacramento, CA', 10397, 'ATL', 'Atlanta, GA', 1142, 1138.0, -4.0, 11.0, 1149.0, 1849.0, 3.0, 1915, 1852.0, -23.0, 0.0, None, 0.0, 'N', 273.0, 254.0, 240.0, 1.0, 2092.0, None, None, None, None, None, None, None, None, None)\n",
      "\n",
      "('2019-08-08', 'DL', 'DL', 'DL', 1701, 'DL', 'N988AT', 1701, 12892, 'LAX', 'Los Angeles, CA', 14771, 'SFO', 'San Francisco, CA', 1900, 1941.0, 41.0, 10.0, 1951.0, 2042.0, 4.0, 2025, 2046.0, 21.0, 0.0, None, 0.0, 'N', 85.0, 65.0, 51.0, 1.0, 337.0, 5.0, 0.0, 0.0, 0.0, 16.0, None, None, None, None)\n",
      "\n"
     ]
    }
   ],
   "source": [
    "for row in rows:\n",
    "    print(row)\n",
    "    print(\"\")"
   ]
  },
  {
   "cell_type": "code",
   "execution_count": null,
   "metadata": {},
   "outputs": [],
   "source": []
  }
 ],
 "metadata": {
  "kernelspec": {
   "display_name": "Python 3",
   "language": "python",
   "name": "python3"
  },
  "language_info": {
   "codemirror_mode": {
    "name": "ipython",
    "version": 3
   },
   "file_extension": ".py",
   "mimetype": "text/x-python",
   "name": "python",
   "nbconvert_exporter": "python",
   "pygments_lexer": "ipython3",
   "version": "3.7.6"
  }
 },
 "nbformat": 4,
 "nbformat_minor": 4
}
