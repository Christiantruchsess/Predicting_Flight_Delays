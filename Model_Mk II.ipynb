{
 "cells": [
  {
   "cell_type": "code",
   "execution_count": 1,
   "id": "paperback-blackberry",
   "metadata": {},
   "outputs": [],
   "source": [
    "import numpy as np\n",
    "import pandas as pd\n",
    "from sklearn.preprocessing import StandardScaler\n",
    "from sklearn.linear_model import SGDRegressor\n",
    "\n",
    "from sklearn.preprocessing import PolynomialFeatures\n",
    "from sklearn.model_selection import train_test_split\n",
    "from sklearn.model_selection import GridSearchCV\n",
    "from sklearn.metrics import r2_score\n",
    "import local_python_packages.features_adding as local"
   ]
  },
  {
   "cell_type": "code",
   "execution_count": 2,
   "id": "empirical-spice",
   "metadata": {},
   "outputs": [],
   "source": [
    "pd.set_option('display.max_columns', None)\n",
    "flights_data = pd.read_csv('UA flights 2019.csv',parse_dates=[0])\n",
    "flights_data = flights_data.sort_values(['fl_date'])"
   ]
  },
  {
   "cell_type": "code",
   "execution_count": 3,
   "id": "administrative-month",
   "metadata": {},
   "outputs": [],
   "source": [
    "df_weather = pd.read_csv('cities_and_dates_weather_final.csv',parse_dates=[1])"
   ]
  },
  {
   "cell_type": "code",
   "execution_count": 4,
   "id": "caroline-edmonton",
   "metadata": {},
   "outputs": [],
   "source": [
    "df_holidays = pd.read_csv('US holidays.csv',parse_dates=[0])"
   ]
  },
  {
   "cell_type": "markdown",
   "id": "purple-funds",
   "metadata": {},
   "source": [
    "Adding additional columns from our feature engineering"
   ]
  },
  {
   "cell_type": "code",
   "execution_count": 5,
   "id": "bright-functionality",
   "metadata": {},
   "outputs": [],
   "source": [
    "flights_data = local.add_taxi_Ndays_rolling(flights_data, 30)"
   ]
  },
  {
   "cell_type": "code",
   "execution_count": 6,
   "id": "tired-resort",
   "metadata": {},
   "outputs": [],
   "source": [
    "flights_data = local.add_traffic_rolling(flights_data, 30)"
   ]
  },
  {
   "cell_type": "code",
   "execution_count": 7,
   "id": "environmental-nothing",
   "metadata": {},
   "outputs": [],
   "source": [
    "flights_data = local.make_month_dummies(flights_data, 'fl_date')"
   ]
  },
  {
   "cell_type": "code",
   "execution_count": 8,
   "id": "difficult-connecticut",
   "metadata": {},
   "outputs": [],
   "source": [
    "flights_data = local.merging_weather_flights(flights_data,df_weather)"
   ]
  },
  {
   "cell_type": "code",
   "execution_count": 9,
   "id": "rental-graphic",
   "metadata": {},
   "outputs": [],
   "source": [
    "flights_data = local.add_dep_delay_Ndays_rolling(flights_data, 30)"
   ]
  },
  {
   "cell_type": "code",
   "execution_count": 10,
   "id": "intensive-league",
   "metadata": {},
   "outputs": [],
   "source": [
    "flights_data = local.add_US_holidays(flights_data, df_holidays)"
   ]
  },
  {
   "cell_type": "code",
   "execution_count": 11,
   "id": "metropolitan-consistency",
   "metadata": {},
   "outputs": [],
   "source": [
    "flights_data = local.make_dates_ordinal(flights_data, 'fl_date')"
   ]
  },
  {
   "cell_type": "code",
   "execution_count": 12,
   "id": "collect-figure",
   "metadata": {},
   "outputs": [],
   "source": [
    "flights_data['orig_air by date']= flights_data['fl_date'] * flights_data['origin_airport_id'] "
   ]
  },
  {
   "cell_type": "code",
   "execution_count": 13,
   "id": "demonstrated-father",
   "metadata": {},
   "outputs": [],
   "source": [
    "flights_data['dest_air by date']= flights_data['fl_date'] * flights_data['dest_airport_id'] "
   ]
  },
  {
   "cell_type": "code",
   "execution_count": 14,
   "id": "lesser-yukon",
   "metadata": {},
   "outputs": [],
   "source": [
    "features_list = ['fl_date','taxi_out','taxi_in', 'arr_delay',\n",
    "                 'crs_elapsed_time',\n",
    "       'air_time', 'distance',\n",
    "       '30d taxi_out', '30d taxi_in',\n",
    "       '30d roll flts origin_airport_id', '30d roll flts dest_airport_id',\n",
    "       'month_1', 'month_2', 'month_3', 'month_4', 'month_5', 'month_6',\n",
    "       'month_7', 'month_8', 'month_9', 'month_10', 'month_11', 'month_12',\n",
    "       'origin_city_wspd', 'origin_visibility',\n",
    "       'dest_city_wspd', 'dest_visibility', 'origin_cond_Overcast',\n",
    "       'origin_cond_Partially cloudy', 'origin_cond_Rain', 'origin_cond_Snow',\n",
    "       'dest_cond_Overcast', 'dest_cond_Partially cloudy', 'dest_cond_Rain',\n",
    "       'dest_cond_Snow','30 days roll dep_time', 'Type_Federal holiday', 'dest_air by date' , 'orig_air by date']"
   ]
  },
  {
   "cell_type": "code",
   "execution_count": 15,
   "id": "familiar-picture",
   "metadata": {},
   "outputs": [],
   "source": [
    "flights_data = local.replace_nan_with_mean(flights_data, 'arr_delay')"
   ]
  },
  {
   "cell_type": "code",
   "execution_count": 16,
   "id": "variable-substitute",
   "metadata": {},
   "outputs": [],
   "source": [
    "flights_data = flights_data[features_list]"
   ]
  },
  {
   "cell_type": "code",
   "execution_count": 17,
   "id": "robust-gospel",
   "metadata": {},
   "outputs": [],
   "source": [
    "flights_data = flights_data.dropna()"
   ]
  },
  {
   "cell_type": "code",
   "execution_count": 33,
   "id": "headed-chase",
   "metadata": {},
   "outputs": [
    {
     "data": {
      "text/plain": [
       "(1514251, 39)"
      ]
     },
     "execution_count": 33,
     "metadata": {},
     "output_type": "execute_result"
    }
   ],
   "source": [
    "flights_data.shape"
   ]
  },
  {
   "cell_type": "code",
   "execution_count": 18,
   "id": "personalized-kingdom",
   "metadata": {},
   "outputs": [],
   "source": [
    "features_list.remove('arr_delay')"
   ]
  },
  {
   "cell_type": "code",
   "execution_count": 19,
   "id": "joint-trainer",
   "metadata": {},
   "outputs": [],
   "source": [
    "X = flights_data[features_list]\n",
    "y = flights_data['arr_delay']"
   ]
  },
  {
   "cell_type": "code",
   "execution_count": 20,
   "id": "nuclear-lawyer",
   "metadata": {},
   "outputs": [],
   "source": [
    "scaler = StandardScaler()"
   ]
  },
  {
   "cell_type": "code",
   "execution_count": 21,
   "id": "possible-diary",
   "metadata": {},
   "outputs": [
    {
     "data": {
      "text/plain": [
       "Index(['fl_date', 'taxi_out', 'taxi_in', 'crs_elapsed_time', 'air_time',\n",
       "       'distance', '30d taxi_out', '30d taxi_in',\n",
       "       '30d roll flts origin_airport_id', '30d roll flts dest_airport_id',\n",
       "       'month_1', 'month_2', 'month_3', 'month_4', 'month_5', 'month_6',\n",
       "       'month_7', 'month_8', 'month_9', 'month_10', 'month_11', 'month_12',\n",
       "       'origin_city_wspd', 'origin_visibility', 'dest_city_wspd',\n",
       "       'dest_visibility', 'origin_cond_Overcast',\n",
       "       'origin_cond_Partially cloudy', 'origin_cond_Rain', 'origin_cond_Snow',\n",
       "       'dest_cond_Overcast', 'dest_cond_Partially cloudy', 'dest_cond_Rain',\n",
       "       'dest_cond_Snow', '30 days roll dep_time', 'Type_Federal holiday',\n",
       "       'dest_air by date', 'orig_air by date'],\n",
       "      dtype='object')"
      ]
     },
     "execution_count": 21,
     "metadata": {},
     "output_type": "execute_result"
    }
   ],
   "source": [
    "X.columns"
   ]
  },
  {
   "cell_type": "code",
   "execution_count": 22,
   "id": "according-short",
   "metadata": {},
   "outputs": [],
   "source": [
    "X = scaler.fit_transform(X)"
   ]
  },
  {
   "cell_type": "code",
   "execution_count": 23,
   "id": "neither-scheduling",
   "metadata": {},
   "outputs": [],
   "source": [
    "X_train, X_test, y_train, y_test = local.quick_split(X,y,train_ratio=0.75)"
   ]
  },
  {
   "cell_type": "code",
   "execution_count": 24,
   "id": "supported-vancouver",
   "metadata": {},
   "outputs": [],
   "source": [
    "sgd = SGDRegressor(max_iter = 30000)"
   ]
  },
  {
   "cell_type": "code",
   "execution_count": 25,
   "id": "thousand-potato",
   "metadata": {},
   "outputs": [],
   "source": [
    "parameters = {'penalty':  ['l2', 'l1', 'elasticnet'],\n",
    "             'alpha':[0.0001, 0.001, 0.01],\n",
    "             'loss':['squared_loss', 'huber', 'epsilon_insensitive', 'squared_epsilon_insensitive']}"
   ]
  },
  {
   "cell_type": "code",
   "execution_count": 26,
   "id": "signed-championship",
   "metadata": {},
   "outputs": [],
   "source": [
    "GrdSrch = GridSearchCV(sgd, param_grid=parameters, scoring=['neg_mean_absolute_error', 'r2'],\n",
    "                       refit='r2', n_jobs = 5, verbose= 4)"
   ]
  },
  {
   "cell_type": "code",
   "execution_count": 27,
   "id": "solar-athens",
   "metadata": {},
   "outputs": [
    {
     "name": "stdout",
     "output_type": "stream",
     "text": [
      "Fitting 5 folds for each of 36 candidates, totalling 180 fits\n"
     ]
    },
    {
     "name": "stderr",
     "output_type": "stream",
     "text": [
      "[Parallel(n_jobs=5)]: Using backend LokyBackend with 5 concurrent workers.\n",
      "[Parallel(n_jobs=5)]: Done  15 tasks      | elapsed:   58.9s\n",
      "[Parallel(n_jobs=5)]: Done  88 tasks      | elapsed:  5.4min\n",
      "[Parallel(n_jobs=5)]: Done 180 out of 180 | elapsed: 10.0min finished\n"
     ]
    },
    {
     "data": {
      "text/plain": [
       "GridSearchCV(estimator=SGDRegressor(max_iter=30000), n_jobs=5,\n",
       "             param_grid={'alpha': [0.0001, 0.001, 0.01],\n",
       "                         'loss': ['squared_loss', 'huber',\n",
       "                                  'epsilon_insensitive',\n",
       "                                  'squared_epsilon_insensitive'],\n",
       "                         'penalty': ['l2', 'l1', 'elasticnet']},\n",
       "             refit='r2', scoring=['neg_mean_absolute_error', 'r2'], verbose=4)"
      ]
     },
     "execution_count": 27,
     "metadata": {},
     "output_type": "execute_result"
    }
   ],
   "source": [
    "GrdSrch.fit(X_train, y_train)"
   ]
  },
  {
   "cell_type": "code",
   "execution_count": 28,
   "id": "suitable-behavior",
   "metadata": {},
   "outputs": [],
   "source": [
    "y_pred=GrdSrch.best_estimator_.predict(X_test)"
   ]
  },
  {
   "cell_type": "code",
   "execution_count": 29,
   "id": "wrapped-wellington",
   "metadata": {},
   "outputs": [
    {
     "data": {
      "text/plain": [
       "0.08920857002449101"
      ]
     },
     "execution_count": 29,
     "metadata": {},
     "output_type": "execute_result"
    }
   ],
   "source": [
    "r2_score(y_test, y_pred)"
   ]
  },
  {
   "cell_type": "code",
   "execution_count": 30,
   "id": "removable-catering",
   "metadata": {},
   "outputs": [
    {
     "data": {
      "text/plain": [
       "0.08635048222366079"
      ]
     },
     "execution_count": 30,
     "metadata": {},
     "output_type": "execute_result"
    }
   ],
   "source": [
    "GrdSrch.best_score_"
   ]
  },
  {
   "cell_type": "code",
   "execution_count": 31,
   "id": "dutch-lover",
   "metadata": {},
   "outputs": [
    {
     "data": {
      "text/plain": [
       "{'alpha': 0.0001, 'loss': 'squared_loss', 'penalty': 'l1'}"
      ]
     },
     "execution_count": 31,
     "metadata": {},
     "output_type": "execute_result"
    }
   ],
   "source": [
    "GrdSrch.best_params_"
   ]
  },
  {
   "cell_type": "code",
   "execution_count": 32,
   "id": "every-pillow",
   "metadata": {
    "scrolled": true
   },
   "outputs": [
    {
     "data": {
      "text/plain": [
       "array([ 10.27389637,  13.83027345,   5.88736327, -59.18750438,\n",
       "        60.278489  ,  -1.65003579,  -2.68786197,   1.50334959,\n",
       "        -1.19308782,  -2.34551094,   4.61839131,   2.79940852,\n",
       "         2.31482004,   1.81250315,   2.83184016,   1.79059622,\n",
       "        -0.63212824,  -0.90803707,  -2.84180183,  -3.04221643,\n",
       "        -4.39174202,  -3.66704292,   0.83592205,  -1.15178103,\n",
       "         2.04322654,  -2.79349925,  -1.11239894,  -0.5016029 ,\n",
       "         2.55849128,   1.68498746,  -1.18546484,   0.        ,\n",
       "         1.86670831,   2.60146736,   7.31974385,  -0.67574266,\n",
       "         0.        ,   0.        ])"
      ]
     },
     "execution_count": 32,
     "metadata": {},
     "output_type": "execute_result"
    }
   ],
   "source": [
    "GrdSrch.best_estimator_.coef_"
   ]
  }
 ],
 "metadata": {
  "kernelspec": {
   "display_name": "Python 3",
   "language": "python",
   "name": "python3"
  },
  "language_info": {
   "codemirror_mode": {
    "name": "ipython",
    "version": 3
   },
   "file_extension": ".py",
   "mimetype": "text/x-python",
   "name": "python",
   "nbconvert_exporter": "python",
   "pygments_lexer": "ipython3",
   "version": "3.7.7"
  }
 },
 "nbformat": 4,
 "nbformat_minor": 5
}
