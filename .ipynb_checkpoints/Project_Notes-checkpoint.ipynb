{
 "cells": [
  {
   "cell_type": "markdown",
   "metadata": {},
   "source": [
    "# Framing the Problem"
   ]
  },
  {
   "cell_type": "markdown",
   "metadata": {},
   "source": [
    "The task of the project is to create a ML model that predicts flight delays one week in advance. This is a regression problem, in which we wish to predict the continuous variable \"minutes of delay\" for each flight. \n",
    "\n",
    "Because the database consists of roughly 15 million rows, we decided to, at first, constrain the problem to only flights from the DL airline in 2019.\n",
    "\n",
    "Naturally, because we are trying to predict a future outcome, our final testing \"future\" data will not count with all of the information our potential training data has; therefore, we should apply feature engineering to enrich our testing data. \n",
    "\n",
    "e.g: Using average taxi time during the past week in order to add a column to the testing data that classifies each airport as either \"overloaded\" or \"not overloaded\". "
   ]
  },
  {
   "cell_type": "markdown",
   "metadata": {},
   "source": [
    "# Data Exploration"
   ]
  },
  {
   "cell_type": "markdown",
   "metadata": {},
   "source": [
    "We have the following variables for the **training data**:"
   ]
  },
  {
   "cell_type": "markdown",
   "metadata": {},
   "source": [
    "- **fl_date**: Flight Date (yyyy-mm-dd)\n",
    "- **mkt_unique_carrier**: Unique Marketing Carrier Code. When the same code has been used by multiple carriers, a numeric suffix is used for earlier users, for example, PA, PA(1), PA(2). Use this field for analysis across a range of years.\n",
    "- **branded_code_share**: Reporting Carrier Operated or Branded Code Share Partners\n",
    "- **mkt_carrier**: Code assigned by IATA and commonly used to identify a carrier. As the same code may have been assigned to different carriers over time, the code is not always unique. For analysis, use the Unique Carrier Code.\n",
    "- **mkt_carrier_fl_num**: Flight Number\n",
    "- **op_unique_carrier**: Unique Scheduled Operating Carrier Code. When the same code has been used by multiple carriers, a numeric suffix is used for earlier users,for example, PA, PA(1), PA(2). Use this field for analysis across a range of years.\n",
    "- **tail_num**: Tail Number\n",
    "- **op_carrier_fl_num**: Flight Number\n",
    "- **origin_airport_id**: Origin Airport, Airport ID. An identification number assigned by US DOT to identify a unique airport. Use this field for airport analysis across a range of years because an airport can change its airport code and airport codes can be reused.\n",
    "- **origin**: Origin Airport\n",
    "- **origin_city_name**: Origin Airport, City Name\n",
    "- **dest_airport_id**: Destination Airport, Airport ID. An identification number assigned by US DOT to identify a unique airport. Use this field for airport analysis across a range of years because an airport can change its airport code and airport codes can be reused.\n",
    "- **dest**: Destination Airport\n",
    "- **dest_city_name**: Destination Airport, City Name\n",
    "- **crs_dep_time**: CRS Departure Time (local time: hhmm)\n",
    "- **dep_time**: Actual Departure Time (local time: hhmm)\n",
    "- **dep_delay**: Difference in minutes between scheduled and actual departure time. Early departures show negative numbers.\t\n",
    "- **taxi_out**: Taxi Out Time, in Minutes\n",
    "- **wheels_off**: Wheels Off Time (local time: hhmm)\n",
    "- **wheels_on**: Wheels On Time (local time: hhmm)\n",
    "- **taxi_in**: \tTaxi In Time, in Minutes\n",
    "- **crs_arr_time**: CRS Arrival Time (local time: hhmm)\n",
    "- **arr_time**: Actual Arrival Time (local time: hhmm)\n",
    "- **arr_delay**: Difference in minutes between scheduled and actual arrival time. Early arrivals show negative numbers.\n",
    "- **cancelled**: Cancelled Flight Indicator (1=Yes)\n",
    "- **cancellation_code**: Specifies The Reason For Cancellation\n",
    "- **diverted**: Diverted Flight Indicator (1=Yes)\n",
    "- **dup**: Duplicate flag marked Y if the flight is swapped based on Form-3A data\n",
    "- **crs_elapsed_time**: CRS Elapsed Time of Flight, in Minutes\n",
    "- **actual_elapsed_time**: Elapsed Time of Flight, in Minutes\n",
    "- **air_time**: Flight Time, in Minutes\n",
    "- **flights**: Number of Flights\n",
    "- **distance**: Distance between airports (miles)\n",
    "- **carrier_delay**: Carrier Delay, in Minutes\n",
    "- **weather_delay**: Weather Delay, in Minutes\n",
    "- **nas_delay**: National Air System Delay, in Minutes\n",
    "- **security_delay**: Security Delay, in Minutes\n",
    "- **late_aircraft_delay**: Late Aircraft Delay, in Minutes\n",
    "- **first_dep_time**: First Gate Departure Time at Origin Airport\n",
    "- **total_add_gtime**: Total Ground Time Away from Gate for Gate Return or Cancelled Flight\n",
    "- **longest_add_gtime**: Longest Time Away from Gate for Gate Return or Cancelled Flight"
   ]
  },
  {
   "cell_type": "code",
   "execution_count": 84,
   "metadata": {},
   "outputs": [],
   "source": [
    "flights_features = ['fl_date', 'mkt_unique_carrier', 'branded_code_share', 'mkt_carrier',\n",
    "       'mkt_carrier_fl_num', 'op_unique_carrier', 'tail_num',\n",
    "       'op_carrier_fl_num', 'origin_airport_id', 'origin', 'origin_city_name',\n",
    "       'dest_airport_id', 'dest', 'dest_city_name', 'crs_dep_time', 'dep_time',\n",
    "       'dep_delay', 'taxi_out', 'wheels_off', 'wheels_on', 'taxi_in',\n",
    "       'crs_arr_time', 'arr_time','cancelled',\n",
    "       'cancellation_code', 'diverted', 'dup', 'crs_elapsed_time',\n",
    "       'actual_elapsed_time', 'air_time', 'flights', 'distance',\n",
    "       'carrier_delay', 'weather_delay', 'nas_delay', 'security_delay',\n",
    "       'late_aircraft_delay', 'first_dep_time', 'total_add_gtime',\n",
    "       'longest_add_gtime', 'no_name']"
   ]
  },
  {
   "cell_type": "markdown",
   "metadata": {},
   "source": [
    "arr_delay is our **TARGET**"
   ]
  },
  {
   "cell_type": "code",
   "execution_count": 85,
   "metadata": {},
   "outputs": [],
   "source": [
    "y_train = 'arr_delay'"
   ]
  },
  {
   "cell_type": "markdown",
   "metadata": {},
   "source": [
    "and for our final **testing data**:"
   ]
  },
  {
   "cell_type": "markdown",
   "metadata": {},
   "source": [
    "- **fl_date**: Flight Date (yyyy-mm-dd)\n",
    "- **mkt_unique_carrier**: Unique Marketing Carrier Code. When the same code has been used by multiple carriers, a numeric suffix is used for earlier users, for example, PA, PA(1), PA(2). Use this field for analysis across a range of years.\n",
    "- **branded_code_share**: Reporting Carrier Operated or Branded Code Share Partners\n",
    "- **mkt_carrier**: Code assigned by IATA and commonly used to identify a carrier. As the same code may have been assigned to different carriers over time, the code is not always unique. For analysis, use the Unique Carrier Code.\n",
    "- **mkt_carrier_fl_num**: Flight Number\n",
    "- **op_unique_carrier**: Unique Scheduled Operating Carrier Code. When the same code has been used by multiple carriers, a numeric suffix is used for earlier users,for example, PA, PA(1), PA(2). Use this field for analysis across a range of years.\n",
    "- **tail_num**: Tail Number\n",
    "- **op_carrier_fl_num**: Flight Number\n",
    "- **origin_airport_id**: Origin Airport, Airport ID. An identification number assigned by US DOT to identify a unique airport. Use this field for airport analysis across a range of years because an airport can change its airport code and airport codes can be reused.\n",
    "- **origin**: Origin Airport\n",
    "- **origin_city_name**: Origin Airport, City Name\n",
    "- **dest_airport_id**: Destination Airport, Airport ID. An identification number assigned by US DOT to identify a unique airport. Use this field for airport analysis across a range of years because an airport can change its airport code and airport codes can be reused.\n",
    "- **dest**: Destination Airport\n",
    "- **dest_city_name**: Destination Airport, City Name\n",
    "- **crs_dep_time**: CRS Departure Time (local time: hhmm)\n",
    "- **crs_arr_time**: CRS Arrival Time (local time: hhmm)\n",
    "- **dup**: Duplicate flag marked Y if the flight is swapped based on Form-3A data\n",
    "- **crs_elapsed_time**: CRS Elapsed Time of Flight, in Minutes\n",
    "- **flights**: Number of Flights\n",
    "- **distance**: Distance between airports (miles)"
   ]
  },
  {
   "cell_type": "code",
   "execution_count": 86,
   "metadata": {},
   "outputs": [],
   "source": [
    "flights_testing_features = ['fl_date', 'mkt_unique_carrier', 'branded_code_share', 'mkt_carrier',\n",
    "       'mkt_carrier_fl_num', 'op_unique_carrier', 'tail_num',\n",
    "       'op_carrier_fl_num', 'origin_airport_id', 'origin', 'origin_city_name',\n",
    "       'dest_airport_id', 'dest', 'dest_city_name', 'crs_dep_time',\n",
    "       'crs_arr_time', 'dup', 'crs_elapsed_time', 'flights', 'distance']"
   ]
  },
  {
   "cell_type": "code",
   "execution_count": 81,
   "metadata": {},
   "outputs": [],
   "source": [
    "import numpy as np\n",
    "diff_list = np.setdiff1d(flights_features,flights_testing_features).tolist()\n",
    "# yields the elements in the first list that are NOT in the second. \n",
    "training_features = flights_features\n",
    "for feature in diff_list:\n",
    "    training_features.remove(feature)"
   ]
  },
  {
   "cell_type": "code",
   "execution_count": 82,
   "metadata": {},
   "outputs": [
    {
     "data": {
      "text/plain": [
       "['fl_date',\n",
       " 'mkt_unique_carrier',\n",
       " 'branded_code_share',\n",
       " 'mkt_carrier',\n",
       " 'mkt_carrier_fl_num',\n",
       " 'op_unique_carrier',\n",
       " 'tail_num',\n",
       " 'op_carrier_fl_num',\n",
       " 'origin_airport_id',\n",
       " 'origin',\n",
       " 'origin_city_name',\n",
       " 'dest_airport_id',\n",
       " 'dest',\n",
       " 'dest_city_name',\n",
       " 'crs_dep_time',\n",
       " 'crs_arr_time',\n",
       " 'dup',\n",
       " 'crs_elapsed_time',\n",
       " 'flights',\n",
       " 'distance']"
      ]
     },
     "execution_count": 82,
     "metadata": {},
     "output_type": "execute_result"
    }
   ],
   "source": [
    "X_train = training_features\n",
    "X_train"
   ]
  },
  {
   "cell_type": "code",
   "execution_count": 87,
   "metadata": {},
   "outputs": [
    {
     "data": {
      "text/plain": [
       "['fl_date',\n",
       " 'mkt_unique_carrier',\n",
       " 'branded_code_share',\n",
       " 'mkt_carrier',\n",
       " 'mkt_carrier_fl_num',\n",
       " 'op_unique_carrier',\n",
       " 'tail_num',\n",
       " 'op_carrier_fl_num',\n",
       " 'origin_airport_id',\n",
       " 'origin',\n",
       " 'origin_city_name',\n",
       " 'dest_airport_id',\n",
       " 'dest',\n",
       " 'dest_city_name',\n",
       " 'crs_dep_time',\n",
       " 'crs_arr_time',\n",
       " 'dup',\n",
       " 'crs_elapsed_time',\n",
       " 'flights',\n",
       " 'distance']"
      ]
     },
     "execution_count": 87,
     "metadata": {},
     "output_type": "execute_result"
    }
   ],
   "source": [
    "flights_testing_features"
   ]
  },
  {
   "cell_type": "code",
   "execution_count": 83,
   "metadata": {},
   "outputs": [
    {
     "data": {
      "text/plain": [
       "'arr_delay'"
      ]
     },
     "execution_count": 83,
     "metadata": {},
     "output_type": "execute_result"
    }
   ],
   "source": [
    "y_train"
   ]
  },
  {
   "cell_type": "markdown",
   "metadata": {},
   "source": [
    "Considerations for feature engineering:\n",
    "\n",
    "- Distribution for delays does not appear to be normal, do we care? \n",
    "\n",
    "- Months surely affect traffic, and therefore might affect delays; months are a categorical variable though, and it might hurt our model to add more features than we really need. How do we implement \"time of year\" into the model without hurting our predictive accuracy? Let's do SEASONS, this only adds 4 more columns, keeping our model SIMPLE. \n",
    "\n",
    "- Weather, definitely impacts BUT working with the API takes time; we will first do a minimum viable product, then look at incorporating weather. \n",
    "\n",
    "- Taxi times should increment with higher traffic times, and traffic could increment depending on the time of day. The question is, HOW do we incorporate taxi time into our feature engineering? Suggestion: calculate average taxi time PER AIRPORT ------- feature engineer two new columns INGOING AVERAGE TAXI TIME and OUTGOING AVG TAXI TIME \n",
    "\n",
    "- Feature engineer AVERAGE TRAFFIC PER AIRPORT (2 COLUMNS , INBOUND AND OUTBOUND) for the last n-days. "
   ]
  },
  {
   "cell_type": "markdown",
   "metadata": {},
   "source": [
    "Models to try:"
   ]
  },
  {
   "cell_type": "code",
   "execution_count": null,
   "metadata": {},
   "outputs": [],
   "source": []
  }
 ],
 "metadata": {
  "kernelspec": {
   "display_name": "Python 3",
   "language": "python",
   "name": "python3"
  },
  "language_info": {
   "codemirror_mode": {
    "name": "ipython",
    "version": 3
   },
   "file_extension": ".py",
   "mimetype": "text/x-python",
   "name": "python",
   "nbconvert_exporter": "python",
   "pygments_lexer": "ipython3",
   "version": "3.7.7"
  }
 },
 "nbformat": 4,
 "nbformat_minor": 4
}
