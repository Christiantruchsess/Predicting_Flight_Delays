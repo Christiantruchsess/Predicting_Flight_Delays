{
 "cells": [
  {
   "cell_type": "code",
   "execution_count": null,
   "metadata": {},
   "outputs": [],
   "source": [
    "import psycopg2\n",
    "import pandas as pd\n",
    "from datetime import date\n",
    "from datetime import datetime\n",
    "from os import path"
   ]
  },
  {
   "cell_type": "code",
   "execution_count": null,
   "metadata": {},
   "outputs": [],
   "source": []
  },
  {
   "cell_type": "code",
   "execution_count": null,
   "metadata": {},
   "outputs": [],
   "source": [
    "def import_flights( dateFrom, dateTill, filename, chunksize=100000, carrier='%' ):\n",
    "    '''\n",
    "    Connects to the database and saves csv file.\n",
    "    \n",
    "    Args:\n",
    "        carrier as string - if omitted wildcard is set by default\n",
    "        dateFrom as string in format YYYY-mm-dd\n",
    "        dateTill as string in format YYYY-mm-dd\n",
    "        chunksize as integer is used in LIMIT and OFFSET parts of SQL to query database. Helps avoiding freezing during query.\n",
    "        filename as string\n",
    "    '''\n",
    "    \n",
    "    dateFrom = datetime.strptime(dateFrom, '%Y-%m-%d')\n",
    "    dateTill = datetime.strptime(dateTill, '%Y-%m-%d')\n",
    "    \n",
    "    \n",
    "    \n",
    "    #Establishing connection\n",
    "    conn = psycopg2.connect(\n",
    "    host=\"mid-term-project.ca2jkepgjpne.us-east-2.rds.amazonaws.com\",\n",
    "    database=\"mid_term_project\",\n",
    "    user=\"lhl_student\",\n",
    "    password=\"lhl_student\")\n",
    "    \n",
    "    #Refined list of columns\n",
    "    list_of_columns = ['fl_date',  'mkt_carrier',\n",
    "       'mkt_carrier_fl_num',  'tail_num',\n",
    "       'op_carrier_fl_num', 'origin_airport_id', 'origin', 'origin_city_name',\n",
    "       'dest_airport_id', 'dest', 'dest_city_name', 'crs_dep_time', 'dep_time',\n",
    "       'dep_delay', 'taxi_out', 'wheels_off', 'wheels_on', 'taxi_in',\n",
    "       'crs_arr_time', 'arr_time', 'arr_delay', 'cancelled',\n",
    "       'cancellation_code', 'diverted', 'dup', 'crs_elapsed_time',\n",
    "       'actual_elapsed_time', 'air_time', 'flights', 'distance',\n",
    "       'carrier_delay', 'weather_delay', 'nas_delay', 'security_delay',\n",
    "       'late_aircraft_delay', 'first_dep_time', 'total_add_gtime',\n",
    "       'longest_add_gtime', 'no_name']\n",
    "    \n",
    "    #Concatenating columns into one string for SQL Query\n",
    "    cols=\"\"\n",
    "    for col in list_of_columns:\n",
    "        if cols:\n",
    "            cols=cols + \", \" + col\n",
    "        else:\n",
    "            cols=col\n",
    "    \n",
    "    #Iterating over data till nothing is returned\n",
    "    \n",
    "    offset = 0\n",
    "    \n",
    "    \n",
    "    while True:\n",
    "        \n",
    "        sql=\"\"\"SELECT \"\"\" + cols + \"\"\" FROM flights\n",
    "        WHERE fl_date >='\"\"\" + dateFrom.strftime('%Y%m%d') + \"\"\"' and fl_date <'\"\"\" + dateTill.strftime('%Y%m%d') + \"\"\"' \n",
    "            and mkt_carrier LIKE '\"\"\"  + carrier + \"\"\"' ORDER BY fl_date LIMIT \"\"\" + str(chunksize) + \"\"\" OFFSET \"\"\" + str(offset) +\"\"\";\"\"\"\n",
    "        \n",
    "        #Quering data from database\n",
    "        df = pd.read_sql(sql, conn)\n",
    "        \n",
    "        if df.shape[0] == 0:\n",
    "            break #No more data. Quiting the loop.\n",
    "        \n",
    "        #Verifying file csv \n",
    "        if path.exists(filename + \".csv\"):\n",
    "            #appending\n",
    "            df.to_csv(filename + \".csv\", mode='a', header=False, index=False)\n",
    "        else:\n",
    "            #creating file\n",
    "            df.to_csv(filename + \".csv\",  index=False)\n",
    "    \n",
    "        offset +=chunksize\n",
    "    conn.close()"
   ]
  },
  {
   "cell_type": "code",
   "execution_count": null,
   "metadata": {},
   "outputs": [],
   "source": [
    "import_flights('2019-01-01', '2019-12-31', 'All flights 2019', chunksize=200000, carrier='%')"
   ]
  },
  {
   "cell_type": "code",
   "execution_count": null,
   "metadata": {},
   "outputs": [],
   "source": []
  }
 ],
 "metadata": {
  "kernelspec": {
   "display_name": "Python 3",
   "language": "python",
   "name": "python3"
  },
  "language_info": {
   "codemirror_mode": {
    "name": "ipython",
    "version": 3
   },
   "file_extension": ".py",
   "mimetype": "text/x-python",
   "name": "python",
   "nbconvert_exporter": "python",
   "pygments_lexer": "ipython3",
   "version": "3.7.6"
  }
 },
 "nbformat": 4,
 "nbformat_minor": 4
}
