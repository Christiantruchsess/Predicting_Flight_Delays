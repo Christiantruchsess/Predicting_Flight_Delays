{
 "cells": [
  {
   "cell_type": "code",
   "execution_count": 10,
   "metadata": {},
   "outputs": [],
   "source": [
    "import pandas as pd"
   ]
  },
  {
   "cell_type": "code",
   "execution_count": 11,
   "metadata": {},
   "outputs": [],
   "source": [
    "def add_taxi_Ndays_rolling(df, days):\n",
    "    \"\"\"\n",
    "    This function calculates and adds additional columns for rolling average taxi_in/taxi_out time per airport per day.\n",
    "    \n",
    "    Args:\n",
    "        df - df to process as DataFrame\n",
    "        days - Days to calculate rolling number for taxi_in, taxi_out time\n",
    "    Output:\n",
    "        processed DataFrame is returned back\n",
    "    \"\"\"\n",
    "    cols={'origin':['origin_airport_id', 'taxi_out'],\n",
    "             'destination':['dest_airport_id','taxi_in']}\n",
    "    \n",
    "    df = df.sort_values(['fl_date']) #Sorting by fl_date just in case it was not sorted before. \n",
    "                                        #It is important for rolling average\n",
    "    \n",
    "    #Iterating the keys in cols which has columns we interested in.\n",
    "    for key in cols.keys():\n",
    "        \n",
    "        #First we calculate average taxi time per airport per day\n",
    "        df_taxi=df[[cols[key][0], 'fl_date',  cols[key][1]]].groupby([cols[key][0], 'fl_date']).mean().reset_index()\n",
    "\n",
    "        #Based on our average taxi time we can calculate rolling average\n",
    "        df_taxi_roll=df_taxi.groupby([cols[key][0]]).rolling(days, on='fl_date'\n",
    "                                                                           ).agg({cols[key][1]:'mean'}).reset_index()\n",
    "        #Renaming column to avoid collision during merging\n",
    "        df_taxi_roll.rename(columns={cols[key][1]: str(days) +'d ' + cols[key][1]}, inplace=True)\n",
    "        \n",
    "        #Merging with initial DataFrame\n",
    "        df=df.merge(df_taxi_roll, on=[cols[key][0], 'fl_date' ] , how='left')\n",
    "    return df"
   ]
  },
  {
   "cell_type": "code",
   "execution_count": 12,
   "metadata": {},
   "outputs": [],
   "source": [
    "def add_traffic_rolling(df, days):\n",
    "    \"\"\"\n",
    "    This function calculates and adds additional column for rolling average number of flights per airport per day.\n",
    "    \n",
    "    Args:\n",
    "        df - DataFrame to process.\n",
    "        days - Days as integer to calculate rolling average\n",
    "        \n",
    "    Output:\n",
    "        dataframe - initial dataframe with additional column\n",
    "    \"\"\"\n",
    "    cols = ['origin_airport_id', 'dest_airport_id']\n",
    "    \n",
    "    df = df.sort_values(['fl_date']) #Sorting by fl_date just in case it was not sorted before. \n",
    "                                        #It is important for rolling average\n",
    "    for item in cols:\n",
    "        #Now calculating trafic per airport per day. Also will calculate N - days rolling average.\n",
    "        count_flight=df[[item, 'fl_date', 'mkt_carrier']].groupby([item, 'fl_date'\n",
    "                                                                             ]).count().reset_index()\n",
    "        \n",
    "        count_flights_roll= count_flight.groupby([item]).rolling(days, on='fl_date'\n",
    "                                                                       ).agg({'mkt_carrier':'mean'}).reset_index()\n",
    "        #Renaming to avoid collision during merging\n",
    "        count_flights_roll.rename(columns={'mkt_carrier': str(days) + 'd roll flts ' + item}, inplace=True)\n",
    "        \n",
    "        #Merging\n",
    "        df=df.merge(count_flights_roll, on=[item, 'fl_date' ] , how='left')\n",
    "        \n",
    "    return df"
   ]
  }
 ],
 "metadata": {
  "kernelspec": {
   "display_name": "Python 3",
   "language": "python",
   "name": "python3"
  },
  "language_info": {
   "codemirror_mode": {
    "name": "ipython",
    "version": 3
   },
   "file_extension": ".py",
   "mimetype": "text/x-python",
   "name": "python",
   "nbconvert_exporter": "python",
   "pygments_lexer": "ipython3",
   "version": "3.7.6"
  }
 },
 "nbformat": 4,
 "nbformat_minor": 4
}
