{
 "cells": [
  {
   "cell_type": "markdown",
   "id": "incredible-sharing",
   "metadata": {},
   "source": [
    "# Overview"
   ]
  },
  {
   "cell_type": "markdown",
   "id": "graduate-decrease",
   "metadata": {},
   "source": [
    "The task of the project is to create a Machine Learning model that predicts flight delays one week in advance. \n",
    "\n",
    "This is a regression problem, in which we wish to predict the continuous variable \"arrival delay\" for each flight.\n",
    "\n",
    "We are supplied with a PostgreSQL Database hosted on an AWS server with around 15 million rows of information on US flights for 2018 and 2019."
   ]
  },
  {
   "cell_type": "markdown",
   "id": "million-career",
   "metadata": {},
   "source": [
    "# Project Phases"
   ]
  },
  {
   "cell_type": "markdown",
   "id": "spread-generator",
   "metadata": {},
   "source": [
    "### The Extract, Transform, Load (ETL) Process\n",
    "- Establish a connection with, and extract the data from, the Postgres relational dabase using the psycopg2 python module. \n",
    "- Save data locally as .csv files, in order to improve efficiency and reliability when working with the dataset.\n",
    "- Convert .csv files to Pandas Dataframes, in order to manipulate it more easily. "
   ]
  },
  {
   "cell_type": "markdown",
   "id": "rocky-isaac",
   "metadata": {},
   "source": [
    "### First approach to the problem:"
   ]
  },
  {
   "cell_type": "markdown",
   "id": "blessed-supplement",
   "metadata": {},
   "source": [
    "#### Preliminary Analysis\n",
    "\n",
    "Because of the sheer size of the dataset (approximately 15 million rows), we decided to constrain the problem to a single airline, UA; we could extrapolate results later on. \n",
    "\n",
    "At first glance, the variables appeared to be neatly quantitative accross the board; closer inspection revealed that most of the variables were actually categorical, masquearading as integers: flight numbers, airline id, airport id, etc. \n",
    "\n",
    "A histogram of the distribution for arrival delays showed a curve that appeared to be normal, but skewed towards early arrivals, yet, a Shapiro-Wilk Test showed that it was not. \n",
    "\n",
    "Scatter plots were inconclusive, showing no apparent patterns, and a correlation matrix showed no strong correlations. \n",
    "\n",
    "All this made sense, because of the majority of categorical variables. "
   ]
  },
  {
   "cell_type": "markdown",
   "id": "double-reading",
   "metadata": {},
   "source": [
    "#### First Model\n",
    "Nevertheless, we proceeded to perform very rough data cleaning, keeping the few quantitative variables we had, and proc "
   ]
  },
  {
   "cell_type": "code",
   "execution_count": null,
   "id": "concerned-above",
   "metadata": {},
   "outputs": [],
   "source": []
  }
 ],
 "metadata": {
  "kernelspec": {
   "display_name": "Python 3",
   "language": "python",
   "name": "python3"
  },
  "language_info": {
   "codemirror_mode": {
    "name": "ipython",
    "version": 3
   },
   "file_extension": ".py",
   "mimetype": "text/x-python",
   "name": "python",
   "nbconvert_exporter": "python",
   "pygments_lexer": "ipython3",
   "version": "3.7.7"
  }
 },
 "nbformat": 4,
 "nbformat_minor": 5
}
