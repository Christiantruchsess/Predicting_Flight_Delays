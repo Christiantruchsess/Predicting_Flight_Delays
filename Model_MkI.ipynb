{
 "cells": [
  {
   "cell_type": "code",
   "execution_count": 69,
   "id": "altered-transition",
   "metadata": {},
   "outputs": [],
   "source": [
    "import numpy as np\n",
    "import pandas as pd\n",
    "from sklearn.preprocessing import StandardScaler\n",
    "from sklearn.linear_model import LinearRegression\n",
    "from sklearn.model_selection import train_test_split\n",
    "from sklearn.model_selection import GridSearchCV\n",
    "from sklearn.metrics import r2_score\n",
    "import local_python_packages.features_adding as local"
   ]
  },
  {
   "cell_type": "code",
   "execution_count": 2,
   "id": "incorrect-rwanda",
   "metadata": {},
   "outputs": [],
   "source": [
    "pd.set_option('display.max_columns', None)\n",
    "flights_data = pd.read_csv('UA flights 2019.csv',parse_dates=[0])\n",
    "flights_data = flights_data.sort_values(['fl_date'])"
   ]
  },
  {
   "cell_type": "code",
   "execution_count": 3,
   "id": "disturbed-coast",
   "metadata": {},
   "outputs": [],
   "source": [
    "df_weather = pd.read_csv('cities_and_dates_weather_final.csv',parse_dates=[1])"
   ]
  },
  {
   "cell_type": "markdown",
   "id": "stuck-stanley",
   "metadata": {},
   "source": [
    "Adding additional columns from our feature engineering"
   ]
  },
  {
   "cell_type": "code",
   "execution_count": 4,
   "id": "endless-protection",
   "metadata": {},
   "outputs": [],
   "source": [
    "flights_data = local.add_taxi_Ndays_rolling(flights_data, 30)"
   ]
  },
  {
   "cell_type": "code",
   "execution_count": 5,
   "id": "biblical-sandwich",
   "metadata": {},
   "outputs": [],
   "source": [
    "flights_data = local.add_traffic_rolling(flights_data, 30)"
   ]
  },
  {
   "cell_type": "code",
   "execution_count": 6,
   "id": "vocal-transmission",
   "metadata": {},
   "outputs": [],
   "source": [
    "flights_data = local.make_month_dummies(flights_data, 'fl_date')"
   ]
  },
  {
   "cell_type": "code",
   "execution_count": 7,
   "id": "excessive-payroll",
   "metadata": {},
   "outputs": [],
   "source": [
    "flights_data = local.merging_weather_flights(flights_data,df_weather)"
   ]
  },
  {
   "cell_type": "code",
   "execution_count": 8,
   "id": "nonprofit-stake",
   "metadata": {},
   "outputs": [],
   "source": [
    "flights_data = local.add_dep_delay_Ndays_rolling(flights_data, 30)"
   ]
  },
  {
   "cell_type": "code",
   "execution_count": 9,
   "id": "mature-albert",
   "metadata": {},
   "outputs": [],
   "source": [
    "flights_data = local.make_dates_ordinal(flights_data, 'fl_date')"
   ]
  },
  {
   "cell_type": "code",
   "execution_count": 14,
   "id": "compound-laptop",
   "metadata": {},
   "outputs": [],
   "source": [
    "features_list = ['fl_date','taxi_out','taxi_in','arr_delay','crs_elapsed_time',\n",
    "       'air_time', 'distance',\n",
    "       '30d taxi_out', '30d taxi_in',\n",
    "       '30d roll flts origin_airport_id', '30d roll flts dest_airport_id',\n",
    "       'month_1', 'month_2', 'month_3', 'month_4', 'month_5', 'month_6',\n",
    "       'month_7', 'month_8', 'month_9', 'month_10', 'month_11', 'month_12',\n",
    "       'origin_city_wspd', 'origin_visibility',\n",
    "       'dest_city_wspd', 'dest_visibility', 'origin_cond_Overcast',\n",
    "       'origin_cond_Partially cloudy', 'origin_cond_Rain', 'origin_cond_Snow',\n",
    "       'dest_cond_Overcast', 'dest_cond_Partially cloudy', 'dest_cond_Rain',\n",
    "       'dest_cond_Snow','30 days roll dep_time']"
   ]
  },
  {
   "cell_type": "code",
   "execution_count": 15,
   "id": "toxic-velvet",
   "metadata": {},
   "outputs": [],
   "source": [
    "flights_data = local.distill_features(flights_data,desired_features=features_list)"
   ]
  },
  {
   "cell_type": "code",
   "execution_count": 16,
   "id": "generous-lithuania",
   "metadata": {},
   "outputs": [
    {
     "data": {
      "text/plain": [
       "(1571606, 36)"
      ]
     },
     "execution_count": 16,
     "metadata": {},
     "output_type": "execute_result"
    }
   ],
   "source": [
    "flights_data.shape"
   ]
  },
  {
   "cell_type": "code",
   "execution_count": 24,
   "id": "congressional-anderson",
   "metadata": {},
   "outputs": [
    {
     "name": "stderr",
     "output_type": "stream",
     "text": [
      "/Users/christiantruchsess/opt/anaconda3/lib/python3.7/site-packages/pandas/core/series.py:4439: SettingWithCopyWarning: \n",
      "A value is trying to be set on a copy of a slice from a DataFrame\n",
      "\n",
      "See the caveats in the documentation: https://pandas.pydata.org/pandas-docs/stable/user_guide/indexing.html#returning-a-view-versus-a-copy\n",
      "  downcast=downcast,\n"
     ]
    }
   ],
   "source": [
    "flights_data = local.replace_nan_with_mean(flights_data, 'arr_delay')"
   ]
  },
  {
   "cell_type": "code",
   "execution_count": 31,
   "id": "fifth-verification",
   "metadata": {},
   "outputs": [],
   "source": [
    "# features_list.remove('arr_delay')"
   ]
  },
  {
   "cell_type": "code",
   "execution_count": 33,
   "id": "colonial-advancement",
   "metadata": {},
   "outputs": [
    {
     "data": {
      "text/plain": [
       "(1571606, 36)"
      ]
     },
     "execution_count": 33,
     "metadata": {},
     "output_type": "execute_result"
    }
   ],
   "source": [
    "flights_data.shape"
   ]
  },
  {
   "cell_type": "code",
   "execution_count": 43,
   "id": "dramatic-scroll",
   "metadata": {},
   "outputs": [],
   "source": [
    "flights_data = flights_data.dropna()"
   ]
  },
  {
   "cell_type": "code",
   "execution_count": 44,
   "id": "streaming-church",
   "metadata": {},
   "outputs": [
    {
     "data": {
      "text/plain": [
       "(1514251, 36)"
      ]
     },
     "execution_count": 44,
     "metadata": {},
     "output_type": "execute_result"
    }
   ],
   "source": [
    "flights_data.shape"
   ]
  },
  {
   "cell_type": "code",
   "execution_count": 91,
   "id": "annual-marble",
   "metadata": {},
   "outputs": [],
   "source": [
    "X = flights_data[features_list]\n",
    "y = flights_data['arr_delay']"
   ]
  },
  {
   "cell_type": "code",
   "execution_count": 92,
   "id": "funky-instrumentation",
   "metadata": {},
   "outputs": [],
   "source": [
    "scaler = StandardScaler()"
   ]
  },
  {
   "cell_type": "code",
   "execution_count": 93,
   "id": "introductory-invasion",
   "metadata": {},
   "outputs": [],
   "source": [
    "X = scaler.fit_transform(X)"
   ]
  },
  {
   "cell_type": "code",
   "execution_count": 94,
   "id": "instructional-tribune",
   "metadata": {},
   "outputs": [],
   "source": [
    "X_train, X_test, y_train, y_test = local.quick_split(X,y,train_ratio=0.75)"
   ]
  },
  {
   "cell_type": "code",
   "execution_count": 95,
   "id": "optional-document",
   "metadata": {},
   "outputs": [],
   "source": [
    "linreg = LinearRegression()"
   ]
  },
  {
   "cell_type": "code",
   "execution_count": 96,
   "id": "ordered-george",
   "metadata": {},
   "outputs": [
    {
     "data": {
      "text/plain": [
       "LinearRegression()"
      ]
     },
     "execution_count": 96,
     "metadata": {},
     "output_type": "execute_result"
    }
   ],
   "source": [
    "linreg.fit(X_train,y_train)"
   ]
  },
  {
   "cell_type": "code",
   "execution_count": 97,
   "id": "municipal-adventure",
   "metadata": {},
   "outputs": [],
   "source": [
    "y_pred = linreg.predict(X_test)"
   ]
  },
  {
   "cell_type": "code",
   "execution_count": 98,
   "id": "uniform-correlation",
   "metadata": {},
   "outputs": [],
   "source": [
    "y_pred = y_pred.reshape(-1,1)"
   ]
  },
  {
   "cell_type": "code",
   "execution_count": 99,
   "id": "apart-mouse",
   "metadata": {},
   "outputs": [
    {
     "data": {
      "text/plain": [
       "(378563, 1)"
      ]
     },
     "execution_count": 99,
     "metadata": {},
     "output_type": "execute_result"
    }
   ],
   "source": [
    "y_pred.shape"
   ]
  },
  {
   "cell_type": "code",
   "execution_count": 100,
   "id": "wrong-translation",
   "metadata": {},
   "outputs": [],
   "source": [
    "y_test = y_test.to_numpy().reshape(-1,1)"
   ]
  },
  {
   "cell_type": "code",
   "execution_count": 101,
   "id": "cross-approach",
   "metadata": {},
   "outputs": [
    {
     "data": {
      "text/plain": [
       "(378563, 1)"
      ]
     },
     "execution_count": 101,
     "metadata": {},
     "output_type": "execute_result"
    }
   ],
   "source": [
    "y_test.shape"
   ]
  },
  {
   "cell_type": "code",
   "execution_count": 102,
   "id": "muslim-heater",
   "metadata": {},
   "outputs": [
    {
     "data": {
      "text/plain": [
       "0.09009812299966236"
      ]
     },
     "execution_count": 102,
     "metadata": {},
     "output_type": "execute_result"
    }
   ],
   "source": [
    "r2_score(y_test,y_pred)"
   ]
  },
  {
   "cell_type": "code",
   "execution_count": null,
   "id": "beneficial-tokyo",
   "metadata": {},
   "outputs": [],
   "source": [
    "0.008"
   ]
  }
 ],
 "metadata": {
  "kernelspec": {
   "display_name": "Python 3",
   "language": "python",
   "name": "python3"
  },
  "language_info": {
   "codemirror_mode": {
    "name": "ipython",
    "version": 3
   },
   "file_extension": ".py",
   "mimetype": "text/x-python",
   "name": "python",
   "nbconvert_exporter": "python",
   "pygments_lexer": "ipython3",
   "version": "3.7.7"
  }
 },
 "nbformat": 4,
 "nbformat_minor": 5
}
