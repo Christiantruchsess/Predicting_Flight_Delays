{
 "cells": [
  {
   "cell_type": "code",
   "execution_count": 1,
   "metadata": {},
   "outputs": [],
   "source": [
    "import os\n",
    "import requests\n",
    "from pprint import pprint \n",
    "import pandas as pd"
   ]
  },
  {
   "cell_type": "code",
   "execution_count": 2,
   "metadata": {},
   "outputs": [],
   "source": [
    "app_key='JMR7VAKJNSXGNVHLP7SP7WNHP'"
   ]
  },
  {
   "cell_type": "code",
   "execution_count": 3,
   "metadata": {},
   "outputs": [],
   "source": [
    "def req_result(url, params):\n",
    "    params[\"key\"]=app_key\n",
    "    params[\"aggregateHours\"]=24\n",
    "    #params['startDateTime']='2019-06-13T00:00:00'\n",
    "    #params['endDateTime']='2019-06-13T23:59:00'\n",
    "    params['unitGroup']='metric'\n",
    "    params['contentType']='json'\n",
    "    params['dayStartTime']='0:0:00'\n",
    "    params['dayEndTime']='0:0:00'\n",
    "    #params['location']='Aguadilla, PR'\n",
    "    \n",
    "    \n",
    "    res=requests.get(url, params)\n",
    "    return res.json()"
   ]
  },
  {
   "cell_type": "code",
   "execution_count": 4,
   "metadata": {},
   "outputs": [],
   "source": [
    "url = 'https://weather.visualcrossing.com/VisualCrossingWebServices/rest/services/weatherdata/history'"
   ]
  },
  {
   "cell_type": "code",
   "execution_count": 5,
   "metadata": {},
   "outputs": [],
   "source": [
    "dict_weather= req_result(url,{})"
   ]
  },
  {
   "cell_type": "code",
   "execution_count": 6,
   "metadata": {},
   "outputs": [
    {
     "name": "stdout",
     "output_type": "stream",
     "text": [
      "{'errorCode': 999,\n",
      " 'executionTime': -1,\n",
      " 'message': 'Must specify either location list or input datasource',\n",
      " 'sessionId': ''}\n"
     ]
    }
   ],
   "source": [
    "pprint(dict_weather)"
   ]
  },
  {
   "cell_type": "code",
   "execution_count": 7,
   "metadata": {
    "scrolled": true
   },
   "outputs": [],
   "source": [
    "#dict_weather['locations']['Aguadilla, PR']['values'][0]['wspd']"
   ]
  },
  {
   "cell_type": "code",
   "execution_count": 8,
   "metadata": {},
   "outputs": [],
   "source": [
    "#list(dict_weather['locations'].keys())[0]\n"
   ]
  },
  {
   "cell_type": "code",
   "execution_count": 9,
   "metadata": {},
   "outputs": [],
   "source": [
    "df = pd.read_csv('cities_and_dates1_5.csv', sep=',', index_col=0, parse_dates=[1])"
   ]
  },
  {
   "cell_type": "code",
   "execution_count": 10,
   "metadata": {},
   "outputs": [
    {
     "data": {
      "text/html": [
       "<div>\n",
       "<style scoped>\n",
       "    .dataframe tbody tr th:only-of-type {\n",
       "        vertical-align: middle;\n",
       "    }\n",
       "\n",
       "    .dataframe tbody tr th {\n",
       "        vertical-align: top;\n",
       "    }\n",
       "\n",
       "    .dataframe thead th {\n",
       "        text-align: right;\n",
       "    }\n",
       "</style>\n",
       "<table border=\"1\" class=\"dataframe\">\n",
       "  <thead>\n",
       "    <tr style=\"text-align: right;\">\n",
       "      <th></th>\n",
       "      <th>fl_date</th>\n",
       "      <th>city_name</th>\n",
       "      <th>wspd</th>\n",
       "      <th>visibility</th>\n",
       "      <th>weathertype</th>\n",
       "      <th>conditions</th>\n",
       "    </tr>\n",
       "  </thead>\n",
       "  <tbody>\n",
       "    <tr>\n",
       "      <th>21092</th>\n",
       "      <td>2019-04-04</td>\n",
       "      <td>Durango, CO</td>\n",
       "      <td>NaN</td>\n",
       "      <td>NaN</td>\n",
       "      <td>NaN</td>\n",
       "      <td>NaN</td>\n",
       "    </tr>\n",
       "    <tr>\n",
       "      <th>21093</th>\n",
       "      <td>2019-04-04</td>\n",
       "      <td>Eagle, CO</td>\n",
       "      <td>NaN</td>\n",
       "      <td>NaN</td>\n",
       "      <td>NaN</td>\n",
       "      <td>NaN</td>\n",
       "    </tr>\n",
       "    <tr>\n",
       "      <th>21094</th>\n",
       "      <td>2019-04-04</td>\n",
       "      <td>Eau Claire, WI</td>\n",
       "      <td>NaN</td>\n",
       "      <td>NaN</td>\n",
       "      <td>NaN</td>\n",
       "      <td>NaN</td>\n",
       "    </tr>\n",
       "    <tr>\n",
       "      <th>21095</th>\n",
       "      <td>2019-04-04</td>\n",
       "      <td>El Paso, TX</td>\n",
       "      <td>NaN</td>\n",
       "      <td>NaN</td>\n",
       "      <td>NaN</td>\n",
       "      <td>NaN</td>\n",
       "    </tr>\n",
       "    <tr>\n",
       "      <th>21096</th>\n",
       "      <td>2019-04-04</td>\n",
       "      <td>Elmira/Corning, NY</td>\n",
       "      <td>NaN</td>\n",
       "      <td>NaN</td>\n",
       "      <td>NaN</td>\n",
       "      <td>NaN</td>\n",
       "    </tr>\n",
       "  </tbody>\n",
       "</table>\n",
       "</div>"
      ],
      "text/plain": [
       "         fl_date           city_name  wspd  visibility  weathertype  \\\n",
       "21092 2019-04-04         Durango, CO   NaN         NaN          NaN   \n",
       "21093 2019-04-04           Eagle, CO   NaN         NaN          NaN   \n",
       "21094 2019-04-04      Eau Claire, WI   NaN         NaN          NaN   \n",
       "21095 2019-04-04         El Paso, TX   NaN         NaN          NaN   \n",
       "21096 2019-04-04  Elmira/Corning, NY   NaN         NaN          NaN   \n",
       "\n",
       "       conditions  \n",
       "21092         NaN  \n",
       "21093         NaN  \n",
       "21094         NaN  \n",
       "21095         NaN  \n",
       "21096         NaN  "
      ]
     },
     "execution_count": 10,
     "metadata": {},
     "output_type": "execute_result"
    }
   ],
   "source": [
    "df.head()"
   ]
  },
  {
   "cell_type": "code",
   "execution_count": 11,
   "metadata": {},
   "outputs": [],
   "source": [
    "df['wspd']=\"\""
   ]
  },
  {
   "cell_type": "code",
   "execution_count": 12,
   "metadata": {},
   "outputs": [],
   "source": [
    "df['visibility']=\"\""
   ]
  },
  {
   "cell_type": "code",
   "execution_count": 13,
   "metadata": {},
   "outputs": [],
   "source": [
    "df['weathertype']=\"\""
   ]
  },
  {
   "cell_type": "code",
   "execution_count": 14,
   "metadata": {},
   "outputs": [],
   "source": [
    "df['conditions']=\"\""
   ]
  },
  {
   "cell_type": "code",
   "execution_count": 15,
   "metadata": {
    "scrolled": true
   },
   "outputs": [
    {
     "data": {
      "text/plain": [
       "fl_date        datetime64[ns]\n",
       "city_name              object\n",
       "wspd                   object\n",
       "visibility             object\n",
       "weathertype            object\n",
       "conditions             object\n",
       "dtype: object"
      ]
     },
     "execution_count": 15,
     "metadata": {},
     "output_type": "execute_result"
    }
   ],
   "source": [
    "df.dtypes"
   ]
  },
  {
   "cell_type": "code",
   "execution_count": 16,
   "metadata": {},
   "outputs": [
    {
     "data": {
      "text/html": [
       "<div>\n",
       "<style scoped>\n",
       "    .dataframe tbody tr th:only-of-type {\n",
       "        vertical-align: middle;\n",
       "    }\n",
       "\n",
       "    .dataframe tbody tr th {\n",
       "        vertical-align: top;\n",
       "    }\n",
       "\n",
       "    .dataframe thead th {\n",
       "        text-align: right;\n",
       "    }\n",
       "</style>\n",
       "<table border=\"1\" class=\"dataframe\">\n",
       "  <thead>\n",
       "    <tr style=\"text-align: right;\">\n",
       "      <th></th>\n",
       "      <th>fl_date</th>\n",
       "      <th>city_name</th>\n",
       "      <th>wspd</th>\n",
       "      <th>visibility</th>\n",
       "      <th>weathertype</th>\n",
       "      <th>conditions</th>\n",
       "    </tr>\n",
       "  </thead>\n",
       "  <tbody>\n",
       "    <tr>\n",
       "      <th>21092</th>\n",
       "      <td>2019-04-04</td>\n",
       "      <td>Durango, CO</td>\n",
       "      <td></td>\n",
       "      <td></td>\n",
       "      <td></td>\n",
       "      <td></td>\n",
       "    </tr>\n",
       "    <tr>\n",
       "      <th>21093</th>\n",
       "      <td>2019-04-04</td>\n",
       "      <td>Eagle, CO</td>\n",
       "      <td></td>\n",
       "      <td></td>\n",
       "      <td></td>\n",
       "      <td></td>\n",
       "    </tr>\n",
       "    <tr>\n",
       "      <th>21094</th>\n",
       "      <td>2019-04-04</td>\n",
       "      <td>Eau Claire, WI</td>\n",
       "      <td></td>\n",
       "      <td></td>\n",
       "      <td></td>\n",
       "      <td></td>\n",
       "    </tr>\n",
       "    <tr>\n",
       "      <th>21095</th>\n",
       "      <td>2019-04-04</td>\n",
       "      <td>El Paso, TX</td>\n",
       "      <td></td>\n",
       "      <td></td>\n",
       "      <td></td>\n",
       "      <td></td>\n",
       "    </tr>\n",
       "    <tr>\n",
       "      <th>21096</th>\n",
       "      <td>2019-04-04</td>\n",
       "      <td>Elmira/Corning, NY</td>\n",
       "      <td></td>\n",
       "      <td></td>\n",
       "      <td></td>\n",
       "      <td></td>\n",
       "    </tr>\n",
       "  </tbody>\n",
       "</table>\n",
       "</div>"
      ],
      "text/plain": [
       "         fl_date           city_name wspd visibility weathertype conditions\n",
       "21092 2019-04-04         Durango, CO                                       \n",
       "21093 2019-04-04           Eagle, CO                                       \n",
       "21094 2019-04-04      Eau Claire, WI                                       \n",
       "21095 2019-04-04         El Paso, TX                                       \n",
       "21096 2019-04-04  Elmira/Corning, NY                                       "
      ]
     },
     "execution_count": 16,
     "metadata": {},
     "output_type": "execute_result"
    }
   ],
   "source": [
    "df.head()"
   ]
  },
  {
   "cell_type": "code",
   "execution_count": 17,
   "metadata": {
    "scrolled": true
   },
   "outputs": [
    {
     "name": "stdout",
     "output_type": "stream",
     "text": [
      "Wall time: 2h 27min 36s\n"
     ]
    }
   ],
   "source": [
    "%%time\n",
    "i=0\n",
    "for index, row in df.iterrows():\n",
    "    dict_weather =req_result(url, {'startDateTime':row['fl_date'].strftime('%Y-%m-%d') + 'T00:00:00',\n",
    "                     'endDateTime':row['fl_date'].strftime('%Y-%m-%d') + 'T23:59:00',\n",
    "                    'location':row['city_name']})\n",
    "    try:\n",
    "        loc_value = list(dict_weather['locations'].keys())[0]\n",
    "\n",
    "\n",
    "        dict_weather['locations'][loc_value]['values'][0]['wspd']\n",
    "        df.at[index, 'wspd']=float(dict_weather['locations'][loc_value]['values'][0]['wspd'])\n",
    "        df.at[index, 'visibility']=float(dict_weather['locations'][loc_value]['values'][0]['visibility'])\n",
    "        df.at[index, 'weathertype']=dict_weather['locations'][loc_value]['values'][0]['weathertype']\n",
    "        df.at[index, 'conditions']=dict_weather['locations'][loc_value]['values'][0]['conditions']\n",
    "    except TypeError:\n",
    "        pass"
   ]
  },
  {
   "cell_type": "code",
   "execution_count": null,
   "metadata": {},
   "outputs": [],
   "source": []
  },
  {
   "cell_type": "code",
   "execution_count": null,
   "metadata": {},
   "outputs": [],
   "source": []
  },
  {
   "cell_type": "code",
   "execution_count": 18,
   "metadata": {},
   "outputs": [],
   "source": [
    "df.to_csv('cities_and_dates_weather1_5.csv')"
   ]
  },
  {
   "cell_type": "code",
   "execution_count": 19,
   "metadata": {},
   "outputs": [
    {
     "name": "stdout",
     "output_type": "stream",
     "text": [
      "Saved\n"
     ]
    }
   ],
   "source": [
    "print('Saved')"
   ]
  },
  {
   "cell_type": "code",
   "execution_count": null,
   "metadata": {},
   "outputs": [],
   "source": []
  }
 ],
 "metadata": {
  "kernelspec": {
   "display_name": "Python 3",
   "language": "python",
   "name": "python3"
  },
  "language_info": {
   "codemirror_mode": {
    "name": "ipython",
    "version": 3
   },
   "file_extension": ".py",
   "mimetype": "text/x-python",
   "name": "python",
   "nbconvert_exporter": "python",
   "pygments_lexer": "ipython3",
   "version": "3.7.6"
  }
 },
 "nbformat": 4,
 "nbformat_minor": 4
}
