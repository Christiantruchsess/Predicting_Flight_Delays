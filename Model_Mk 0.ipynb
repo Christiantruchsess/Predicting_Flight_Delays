{
 "cells": [
  {
   "cell_type": "markdown",
   "metadata": {},
   "source": [
    "# Objective: Building a model that predicts flight delays a week in advance, using data from an SQL Database for US flights"
   ]
  },
  {
   "cell_type": "markdown",
   "metadata": {},
   "source": [
    "As a first approach to the problem, we will limit the scope of the model to predicting delays in a single airline, DL. The first goal is to build a baseline simple model as a benchmark, to then subsequently improve upon iteratively. \n",
    "\n",
    "Because the size of the data was so unwieldly (around 15 million rows) we selected a sample of around 1 million rows for all months in 2019 to work with."
   ]
  },
  {
   "cell_type": "code",
   "execution_count": 149,
   "metadata": {},
   "outputs": [],
   "source": [
    "# import required packages\n",
    "import numpy as np \n",
    "import pandas as pd\n",
    "import psycopg2\n",
    "import matplotlib.pyplot as plt\n",
    "import seaborn as sns\n",
    "from sklearn.preprocessing import StandardScaler\n",
    "from sklearn.linear_model import LinearRegression\n",
    "from sklearn.model_selection import GridSearchCV\n",
    "from sklearn.model_selection import train_test_split\n",
    "import sklearn.metrics as metrics\n",
    "import local_python_packages.features_adding as local"
   ]
  },
  {
   "cell_type": "markdown",
   "metadata": {},
   "source": [
    "## Data Extraction\n",
    "\n",
    "Data was extracted to .csv files using a function found in the Postgres connection notebook. "
   ]
  },
  {
   "cell_type": "code",
   "execution_count": 115,
   "metadata": {},
   "outputs": [],
   "source": [
    "pd.set_option('display.max_columns', None)\n",
    "flights_data = pd.read_csv('UA flights 2019.csv',parse_dates=[0])\n",
    "flights_data = flights_data.sort_values(['fl_date'])"
   ]
  },
  {
   "cell_type": "markdown",
   "metadata": {},
   "source": [
    "We will also connect to the database in order to extract any extra information we may need."
   ]
  },
  {
   "cell_type": "code",
   "execution_count": 116,
   "metadata": {},
   "outputs": [],
   "source": [
    "# connect to database and build query function\n",
    "conn = psycopg2.connect(\n",
    "    host=\"mid-term-project.ca2jkepgjpne.us-east-2.rds.amazonaws.com\",\n",
    "    database=\"mid_term_project\",\n",
    "    user=\"lhl_student\",\n",
    "    password=\"lhl_student\")\n",
    "\n",
    "def query(query):\n",
    "    return pd.read_sql(query,conn)"
   ]
  },
  {
   "cell_type": "markdown",
   "metadata": {},
   "source": [
    "## Data Preparation"
   ]
  },
  {
   "cell_type": "markdown",
   "metadata": {},
   "source": [
    "Because the objective is to build a predictive model, not all the data features recorded in the (historical) flights table of the database would be available to the model at the moment of prediction.\n",
    "\n",
    "Therefore, our training features have to correspond to the features that we would eventually have available to predict with."
   ]
  },
  {
   "cell_type": "code",
   "execution_count": 117,
   "metadata": {},
   "outputs": [],
   "source": [
    "training_features = query('SELECT * FROM flights_test LIMIT 1').columns.to_list()"
   ]
  },
  {
   "cell_type": "markdown",
   "metadata": {},
   "source": [
    "## Feature Engineering"
   ]
  },
  {
   "cell_type": "markdown",
   "metadata": {},
   "source": [
    "A little bit of research will provide us with sufficient domain knowledge to be confident in our decisions when feature engineering:"
   ]
  },
  {
   "cell_type": "markdown",
   "metadata": {},
   "source": [
    "(...)_we first define different terms that constitute the travel time segments: computerized reservation system (CRS) departure/arrival time is the scheduled departure/arrival time of the flight, wheels off is the time when the wheels of the aircraft leave the ground at the origin airport, and wheels on is the time when the wheels of the aircraft touch the ground at the destination airport. The departure delay of an aircraft is the difference between the actual departure time and the CRS departure time of the flight. Arrival delay equals actual arrival time minus the scheduled arrival time_(...)\n",
    "\n",
    "source: https://stat-or.unc.edu/wp-content/uploads/sites/182/2018/09/Paper3_MSOM_2012_AirlineFlightDelays.pdf"
   ]
  },
  {
   "cell_type": "markdown",
   "metadata": {},
   "source": [
    "We pick the features we want to keep from the \"training_features\" list extracted above. \n",
    "\n",
    "- We _keep_ `fl_date` (flight date) because the time of the year can potentially influence delays.\n",
    "- We _remove_ `mkt_unique_carrier`,`branded_code_share`,`mkt_carrier`, `op_unique_carrier` (carrier identifiers) because we are dealing with a single airline anyways. \n",
    "- We _keep_ `mkt_carrier_fl_num` (flight number), because a specific flight might be recurringly problematic, therefore easy to predict delays for. \n",
    "- We _remove_ `tail_num` (aircraft identifier), because it is categorical and there are too many planes to turn it into dummy variables. \n",
    "- We _remove_ `op_carrier_fl_num` (flight number) because we already have `mkt_carrier_fl_num`.\n",
    "- Our model will only look at origin airport and destination airport, identified by `origin_airport_id` and `dest_airport_id` respectively; the name of the airport, city or state is irrelevant, therefore we _remove_ `origin` (name of airport), `origin_city_name` (origin airport and city name), `dest` and `dest_city_name`.\n",
    "- We _keep_ `crs_dep_time`, `crs_arr_time` and `crs_elapsed_time` (scheduled departure, arrival and time of flight) because they are our reference points in time; flights scheduled for busy times in the day might be more susceptible to delays.\n",
    "- We _remove_ `dup` and `flights` because they provide us no information (same value for all rows, N and 1 respectively).\n",
    "- We _keep_ arr_delay because it is our target variable"
   ]
  },
  {
   "cell_type": "markdown",
   "metadata": {},
   "source": [
    "Our distill_features function will take care of this:"
   ]
  },
  {
   "cell_type": "code",
   "execution_count": 118,
   "metadata": {},
   "outputs": [
    {
     "data": {
      "text/html": [
       "<div>\n",
       "<style scoped>\n",
       "    .dataframe tbody tr th:only-of-type {\n",
       "        vertical-align: middle;\n",
       "    }\n",
       "\n",
       "    .dataframe tbody tr th {\n",
       "        vertical-align: top;\n",
       "    }\n",
       "\n",
       "    .dataframe thead th {\n",
       "        text-align: right;\n",
       "    }\n",
       "</style>\n",
       "<table border=\"1\" class=\"dataframe\">\n",
       "  <thead>\n",
       "    <tr style=\"text-align: right;\">\n",
       "      <th></th>\n",
       "      <th>fl_date</th>\n",
       "      <th>mkt_carrier_fl_num</th>\n",
       "      <th>origin_airport_id</th>\n",
       "      <th>dest_airport_id</th>\n",
       "      <th>crs_dep_time</th>\n",
       "      <th>crs_arr_time</th>\n",
       "      <th>crs_elapsed_time</th>\n",
       "      <th>distance</th>\n",
       "      <th>arr_delay</th>\n",
       "    </tr>\n",
       "  </thead>\n",
       "  <tbody>\n",
       "    <tr>\n",
       "      <th>0</th>\n",
       "      <td>2019-01-01</td>\n",
       "      <td>5611</td>\n",
       "      <td>14689</td>\n",
       "      <td>12892</td>\n",
       "      <td>1915</td>\n",
       "      <td>2017</td>\n",
       "      <td>62.0</td>\n",
       "      <td>89.0</td>\n",
       "      <td>-23.0</td>\n",
       "    </tr>\n",
       "  </tbody>\n",
       "</table>\n",
       "</div>"
      ],
      "text/plain": [
       "     fl_date  mkt_carrier_fl_num  origin_airport_id  dest_airport_id  \\\n",
       "0 2019-01-01                5611              14689            12892   \n",
       "\n",
       "   crs_dep_time  crs_arr_time  crs_elapsed_time  distance  arr_delay  \n",
       "0          1915          2017              62.0      89.0      -23.0  "
      ]
     },
     "execution_count": 118,
     "metadata": {},
     "output_type": "execute_result"
    }
   ],
   "source": [
    "flights_data = local.distill_features(flights_data)\n",
    "flights_data.head(1)"
   ]
  },
  {
   "cell_type": "markdown",
   "metadata": {},
   "source": [
    "Now that we have reduced the features we are going to work with, we proceed to clean up our dataframe. First, we will check our data types. "
   ]
  },
  {
   "cell_type": "code",
   "execution_count": 119,
   "metadata": {},
   "outputs": [
    {
     "data": {
      "text/plain": [
       "fl_date               datetime64[ns]\n",
       "mkt_carrier_fl_num             int64\n",
       "origin_airport_id              int64\n",
       "dest_airport_id                int64\n",
       "crs_dep_time                   int64\n",
       "crs_arr_time                   int64\n",
       "crs_elapsed_time             float64\n",
       "distance                     float64\n",
       "arr_delay                    float64\n",
       "dtype: object"
      ]
     },
     "execution_count": 119,
     "metadata": {},
     "output_type": "execute_result"
    }
   ],
   "source": [
    "flights_data.dtypes"
   ]
  },
  {
   "cell_type": "markdown",
   "metadata": {},
   "source": [
    "Convert datetime objects to integers:"
   ]
  },
  {
   "cell_type": "code",
   "execution_count": 120,
   "metadata": {},
   "outputs": [
    {
     "data": {
      "text/html": [
       "<div>\n",
       "<style scoped>\n",
       "    .dataframe tbody tr th:only-of-type {\n",
       "        vertical-align: middle;\n",
       "    }\n",
       "\n",
       "    .dataframe tbody tr th {\n",
       "        vertical-align: top;\n",
       "    }\n",
       "\n",
       "    .dataframe thead th {\n",
       "        text-align: right;\n",
       "    }\n",
       "</style>\n",
       "<table border=\"1\" class=\"dataframe\">\n",
       "  <thead>\n",
       "    <tr style=\"text-align: right;\">\n",
       "      <th></th>\n",
       "      <th>fl_date</th>\n",
       "      <th>mkt_carrier_fl_num</th>\n",
       "      <th>origin_airport_id</th>\n",
       "      <th>dest_airport_id</th>\n",
       "      <th>crs_dep_time</th>\n",
       "      <th>crs_arr_time</th>\n",
       "      <th>crs_elapsed_time</th>\n",
       "      <th>distance</th>\n",
       "      <th>arr_delay</th>\n",
       "    </tr>\n",
       "  </thead>\n",
       "  <tbody>\n",
       "    <tr>\n",
       "      <th>0</th>\n",
       "      <td>737060</td>\n",
       "      <td>5611</td>\n",
       "      <td>14689</td>\n",
       "      <td>12892</td>\n",
       "      <td>1915</td>\n",
       "      <td>2017</td>\n",
       "      <td>62.0</td>\n",
       "      <td>89.0</td>\n",
       "      <td>-23.0</td>\n",
       "    </tr>\n",
       "    <tr>\n",
       "      <th>2694</th>\n",
       "      <td>737060</td>\n",
       "      <td>4902</td>\n",
       "      <td>11618</td>\n",
       "      <td>13485</td>\n",
       "      <td>918</td>\n",
       "      <td>1106</td>\n",
       "      <td>168.0</td>\n",
       "      <td>799.0</td>\n",
       "      <td>9.0</td>\n",
       "    </tr>\n",
       "    <tr>\n",
       "      <th>2695</th>\n",
       "      <td>737060</td>\n",
       "      <td>4901</td>\n",
       "      <td>12264</td>\n",
       "      <td>10990</td>\n",
       "      <td>1745</td>\n",
       "      <td>1841</td>\n",
       "      <td>56.0</td>\n",
       "      <td>77.0</td>\n",
       "      <td>-15.0</td>\n",
       "    </tr>\n",
       "    <tr>\n",
       "      <th>2696</th>\n",
       "      <td>737060</td>\n",
       "      <td>4900</td>\n",
       "      <td>11618</td>\n",
       "      <td>12264</td>\n",
       "      <td>1855</td>\n",
       "      <td>2024</td>\n",
       "      <td>89.0</td>\n",
       "      <td>212.0</td>\n",
       "      <td>-17.0</td>\n",
       "    </tr>\n",
       "    <tr>\n",
       "      <th>2697</th>\n",
       "      <td>737060</td>\n",
       "      <td>4880</td>\n",
       "      <td>11618</td>\n",
       "      <td>11066</td>\n",
       "      <td>802</td>\n",
       "      <td>1004</td>\n",
       "      <td>122.0</td>\n",
       "      <td>463.0</td>\n",
       "      <td>0.0</td>\n",
       "    </tr>\n",
       "    <tr>\n",
       "      <th>...</th>\n",
       "      <td>...</td>\n",
       "      <td>...</td>\n",
       "      <td>...</td>\n",
       "      <td>...</td>\n",
       "      <td>...</td>\n",
       "      <td>...</td>\n",
       "      <td>...</td>\n",
       "      <td>...</td>\n",
       "      <td>...</td>\n",
       "    </tr>\n",
       "    <tr>\n",
       "      <th>1568912</th>\n",
       "      <td>737424</td>\n",
       "      <td>3534</td>\n",
       "      <td>12339</td>\n",
       "      <td>12266</td>\n",
       "      <td>1705</td>\n",
       "      <td>1854</td>\n",
       "      <td>169.0</td>\n",
       "      <td>844.0</td>\n",
       "      <td>3.0</td>\n",
       "    </tr>\n",
       "    <tr>\n",
       "      <th>1568913</th>\n",
       "      <td>737424</td>\n",
       "      <td>3535</td>\n",
       "      <td>13871</td>\n",
       "      <td>13930</td>\n",
       "      <td>905</td>\n",
       "      <td>1053</td>\n",
       "      <td>108.0</td>\n",
       "      <td>416.0</td>\n",
       "      <td>-21.0</td>\n",
       "    </tr>\n",
       "    <tr>\n",
       "      <th>1568914</th>\n",
       "      <td>737424</td>\n",
       "      <td>3536</td>\n",
       "      <td>11278</td>\n",
       "      <td>11618</td>\n",
       "      <td>1955</td>\n",
       "      <td>2130</td>\n",
       "      <td>95.0</td>\n",
       "      <td>199.0</td>\n",
       "      <td>-24.0</td>\n",
       "    </tr>\n",
       "    <tr>\n",
       "      <th>1568902</th>\n",
       "      <td>737424</td>\n",
       "      <td>3523</td>\n",
       "      <td>11618</td>\n",
       "      <td>13198</td>\n",
       "      <td>1110</td>\n",
       "      <td>1346</td>\n",
       "      <td>216.0</td>\n",
       "      <td>1092.0</td>\n",
       "      <td>-29.0</td>\n",
       "    </tr>\n",
       "    <tr>\n",
       "      <th>1571403</th>\n",
       "      <td>737424</td>\n",
       "      <td>3765</td>\n",
       "      <td>13930</td>\n",
       "      <td>10408</td>\n",
       "      <td>1405</td>\n",
       "      <td>1514</td>\n",
       "      <td>69.0</td>\n",
       "      <td>161.0</td>\n",
       "      <td>27.0</td>\n",
       "    </tr>\n",
       "  </tbody>\n",
       "</table>\n",
       "<p>1571404 rows × 9 columns</p>\n",
       "</div>"
      ],
      "text/plain": [
       "         fl_date  mkt_carrier_fl_num  origin_airport_id  dest_airport_id  \\\n",
       "0         737060                5611              14689            12892   \n",
       "2694      737060                4902              11618            13485   \n",
       "2695      737060                4901              12264            10990   \n",
       "2696      737060                4900              11618            12264   \n",
       "2697      737060                4880              11618            11066   \n",
       "...          ...                 ...                ...              ...   \n",
       "1568912   737424                3534              12339            12266   \n",
       "1568913   737424                3535              13871            13930   \n",
       "1568914   737424                3536              11278            11618   \n",
       "1568902   737424                3523              11618            13198   \n",
       "1571403   737424                3765              13930            10408   \n",
       "\n",
       "         crs_dep_time  crs_arr_time  crs_elapsed_time  distance  arr_delay  \n",
       "0                1915          2017              62.0      89.0      -23.0  \n",
       "2694              918          1106             168.0     799.0        9.0  \n",
       "2695             1745          1841              56.0      77.0      -15.0  \n",
       "2696             1855          2024              89.0     212.0      -17.0  \n",
       "2697              802          1004             122.0     463.0        0.0  \n",
       "...               ...           ...               ...       ...        ...  \n",
       "1568912          1705          1854             169.0     844.0        3.0  \n",
       "1568913           905          1053             108.0     416.0      -21.0  \n",
       "1568914          1955          2130              95.0     199.0      -24.0  \n",
       "1568902          1110          1346             216.0    1092.0      -29.0  \n",
       "1571403          1405          1514              69.0     161.0       27.0  \n",
       "\n",
       "[1571404 rows x 9 columns]"
      ]
     },
     "execution_count": 120,
     "metadata": {},
     "output_type": "execute_result"
    }
   ],
   "source": [
    "local.make_dates_ordinal(flights_data, 'fl_date')"
   ]
  },
  {
   "cell_type": "code",
   "execution_count": 121,
   "metadata": {},
   "outputs": [
    {
     "data": {
      "text/plain": [
       "fl_date                 int64\n",
       "mkt_carrier_fl_num      int64\n",
       "origin_airport_id       int64\n",
       "dest_airport_id         int64\n",
       "crs_dep_time            int64\n",
       "crs_arr_time            int64\n",
       "crs_elapsed_time      float64\n",
       "distance              float64\n",
       "arr_delay             float64\n",
       "dtype: object"
      ]
     },
     "execution_count": 121,
     "metadata": {},
     "output_type": "execute_result"
    }
   ],
   "source": [
    "flights_data.dtypes"
   ]
  },
  {
   "cell_type": "markdown",
   "metadata": {},
   "source": [
    "Check for NaN values:"
   ]
  },
  {
   "cell_type": "code",
   "execution_count": 122,
   "metadata": {},
   "outputs": [
    {
     "data": {
      "text/plain": [
       "fl_date                   0\n",
       "mkt_carrier_fl_num        0\n",
       "origin_airport_id         0\n",
       "dest_airport_id           0\n",
       "crs_dep_time              0\n",
       "crs_arr_time              0\n",
       "crs_elapsed_time          9\n",
       "distance                  0\n",
       "arr_delay             42491\n",
       "dtype: int64"
      ]
     },
     "execution_count": 122,
     "metadata": {},
     "output_type": "execute_result"
    }
   ],
   "source": [
    "flights_data.isna().sum()"
   ]
  },
  {
   "cell_type": "code",
   "execution_count": 123,
   "metadata": {},
   "outputs": [
    {
     "data": {
      "text/plain": [
       "(1571404, 9)"
      ]
     },
     "execution_count": 123,
     "metadata": {},
     "output_type": "execute_result"
    }
   ],
   "source": [
    "flights_data.shape"
   ]
  },
  {
   "cell_type": "markdown",
   "metadata": {},
   "source": [
    "Missing values for arr_delay are only 2.7 percent:"
   ]
  },
  {
   "cell_type": "code",
   "execution_count": 124,
   "metadata": {},
   "outputs": [
    {
     "data": {
      "text/plain": [
       "2.7040150082346743"
      ]
     },
     "execution_count": 124,
     "metadata": {},
     "output_type": "execute_result"
    }
   ],
   "source": [
    "(42491/1571404)*100"
   ]
  },
  {
   "cell_type": "markdown",
   "metadata": {},
   "source": [
    "Let's take a look at the arr_delay data, to see what we should do with those NaN values:"
   ]
  },
  {
   "cell_type": "code",
   "execution_count": 125,
   "metadata": {},
   "outputs": [
    {
     "data": {
      "text/plain": [
       "count    1.528913e+06\n",
       "mean     1.067793e+01\n",
       "std      6.588224e+01\n",
       "min     -9.100000e+01\n",
       "25%     -1.600000e+01\n",
       "50%     -6.000000e+00\n",
       "75%      1.100000e+01\n",
       "max      1.909000e+03\n",
       "Name: arr_delay, dtype: float64"
      ]
     },
     "execution_count": 125,
     "metadata": {},
     "output_type": "execute_result"
    }
   ],
   "source": [
    "flights_data['arr_delay'].describe()"
   ]
  },
  {
   "cell_type": "code",
   "execution_count": 126,
   "metadata": {},
   "outputs": [
    {
     "data": {
      "text/plain": [
       "<seaborn.axisgrid.FacetGrid at 0x7f8da2b0df90>"
      ]
     },
     "execution_count": 126,
     "metadata": {},
     "output_type": "execute_result"
    },
    {
     "data": {
      "image/png": "[encoded data removed]",
      "text/plain": [
       "<Figure size 360x360 with 1 Axes>"
      ]
     },
     "metadata": {
      "needs_background": "light"
     },
     "output_type": "display_data"
    }
   ],
   "source": [
    "sns.displot(flights_data[flights_data['arr_delay'] < 100]['arr_delay'].sample(n=100000))"
   ]
  },
  {
   "cell_type": "markdown",
   "metadata": {},
   "source": [
    "Calculating the IQR range, and calculating the mean without taking outliers into consideration:"
   ]
  },
  {
   "cell_type": "markdown",
   "metadata": {},
   "source": [
    "Let's replace missing value with the mean previously found. "
   ]
  },
  {
   "cell_type": "code",
   "execution_count": 127,
   "metadata": {},
   "outputs": [
    {
     "data": {
      "text/plain": [
       "fl_date               0\n",
       "mkt_carrier_fl_num    0\n",
       "origin_airport_id     0\n",
       "dest_airport_id       0\n",
       "crs_dep_time          0\n",
       "crs_arr_time          0\n",
       "crs_elapsed_time      9\n",
       "distance              0\n",
       "arr_delay             0\n",
       "dtype: int64"
      ]
     },
     "execution_count": 127,
     "metadata": {},
     "output_type": "execute_result"
    }
   ],
   "source": [
    "local.replace_nan_with_mean(flights_data,'arr_delay').isna().sum()"
   ]
  },
  {
   "cell_type": "code",
   "execution_count": 128,
   "metadata": {},
   "outputs": [
    {
     "data": {
      "text/plain": [
       "fl_date               0\n",
       "mkt_carrier_fl_num    0\n",
       "origin_airport_id     0\n",
       "dest_airport_id       0\n",
       "crs_dep_time          0\n",
       "crs_arr_time          0\n",
       "crs_elapsed_time      0\n",
       "distance              0\n",
       "arr_delay             0\n",
       "dtype: int64"
      ]
     },
     "execution_count": 128,
     "metadata": {},
     "output_type": "execute_result"
    }
   ],
   "source": [
    "local.replace_nan_with_mean(flights_data,'crs_elapsed_time').isna().sum()"
   ]
  },
  {
   "cell_type": "code",
   "execution_count": 129,
   "metadata": {},
   "outputs": [
    {
     "data": {
      "text/html": [
       "<div>\n",
       "<style scoped>\n",
       "    .dataframe tbody tr th:only-of-type {\n",
       "        vertical-align: middle;\n",
       "    }\n",
       "\n",
       "    .dataframe tbody tr th {\n",
       "        vertical-align: top;\n",
       "    }\n",
       "\n",
       "    .dataframe thead th {\n",
       "        text-align: right;\n",
       "    }\n",
       "</style>\n",
       "<table border=\"1\" class=\"dataframe\">\n",
       "  <thead>\n",
       "    <tr style=\"text-align: right;\">\n",
       "      <th></th>\n",
       "      <th>fl_date</th>\n",
       "      <th>mkt_carrier_fl_num</th>\n",
       "      <th>origin_airport_id</th>\n",
       "      <th>dest_airport_id</th>\n",
       "      <th>crs_dep_time</th>\n",
       "      <th>crs_arr_time</th>\n",
       "      <th>crs_elapsed_time</th>\n",
       "      <th>distance</th>\n",
       "      <th>arr_delay</th>\n",
       "    </tr>\n",
       "  </thead>\n",
       "  <tbody>\n",
       "    <tr>\n",
       "      <th>0</th>\n",
       "      <td>737060</td>\n",
       "      <td>5611</td>\n",
       "      <td>14689</td>\n",
       "      <td>12892</td>\n",
       "      <td>1915</td>\n",
       "      <td>2017</td>\n",
       "      <td>62.0</td>\n",
       "      <td>89.0</td>\n",
       "      <td>-23.0</td>\n",
       "    </tr>\n",
       "    <tr>\n",
       "      <th>2694</th>\n",
       "      <td>737060</td>\n",
       "      <td>4902</td>\n",
       "      <td>11618</td>\n",
       "      <td>13485</td>\n",
       "      <td>918</td>\n",
       "      <td>1106</td>\n",
       "      <td>168.0</td>\n",
       "      <td>799.0</td>\n",
       "      <td>9.0</td>\n",
       "    </tr>\n",
       "    <tr>\n",
       "      <th>2695</th>\n",
       "      <td>737060</td>\n",
       "      <td>4901</td>\n",
       "      <td>12264</td>\n",
       "      <td>10990</td>\n",
       "      <td>1745</td>\n",
       "      <td>1841</td>\n",
       "      <td>56.0</td>\n",
       "      <td>77.0</td>\n",
       "      <td>-15.0</td>\n",
       "    </tr>\n",
       "    <tr>\n",
       "      <th>2696</th>\n",
       "      <td>737060</td>\n",
       "      <td>4900</td>\n",
       "      <td>11618</td>\n",
       "      <td>12264</td>\n",
       "      <td>1855</td>\n",
       "      <td>2024</td>\n",
       "      <td>89.0</td>\n",
       "      <td>212.0</td>\n",
       "      <td>-17.0</td>\n",
       "    </tr>\n",
       "    <tr>\n",
       "      <th>2697</th>\n",
       "      <td>737060</td>\n",
       "      <td>4880</td>\n",
       "      <td>11618</td>\n",
       "      <td>11066</td>\n",
       "      <td>802</td>\n",
       "      <td>1004</td>\n",
       "      <td>122.0</td>\n",
       "      <td>463.0</td>\n",
       "      <td>0.0</td>\n",
       "    </tr>\n",
       "    <tr>\n",
       "      <th>...</th>\n",
       "      <td>...</td>\n",
       "      <td>...</td>\n",
       "      <td>...</td>\n",
       "      <td>...</td>\n",
       "      <td>...</td>\n",
       "      <td>...</td>\n",
       "      <td>...</td>\n",
       "      <td>...</td>\n",
       "      <td>...</td>\n",
       "    </tr>\n",
       "    <tr>\n",
       "      <th>1568912</th>\n",
       "      <td>737424</td>\n",
       "      <td>3534</td>\n",
       "      <td>12339</td>\n",
       "      <td>12266</td>\n",
       "      <td>1705</td>\n",
       "      <td>1854</td>\n",
       "      <td>169.0</td>\n",
       "      <td>844.0</td>\n",
       "      <td>3.0</td>\n",
       "    </tr>\n",
       "    <tr>\n",
       "      <th>1568913</th>\n",
       "      <td>737424</td>\n",
       "      <td>3535</td>\n",
       "      <td>13871</td>\n",
       "      <td>13930</td>\n",
       "      <td>905</td>\n",
       "      <td>1053</td>\n",
       "      <td>108.0</td>\n",
       "      <td>416.0</td>\n",
       "      <td>-21.0</td>\n",
       "    </tr>\n",
       "    <tr>\n",
       "      <th>1568914</th>\n",
       "      <td>737424</td>\n",
       "      <td>3536</td>\n",
       "      <td>11278</td>\n",
       "      <td>11618</td>\n",
       "      <td>1955</td>\n",
       "      <td>2130</td>\n",
       "      <td>95.0</td>\n",
       "      <td>199.0</td>\n",
       "      <td>-24.0</td>\n",
       "    </tr>\n",
       "    <tr>\n",
       "      <th>1568902</th>\n",
       "      <td>737424</td>\n",
       "      <td>3523</td>\n",
       "      <td>11618</td>\n",
       "      <td>13198</td>\n",
       "      <td>1110</td>\n",
       "      <td>1346</td>\n",
       "      <td>216.0</td>\n",
       "      <td>1092.0</td>\n",
       "      <td>-29.0</td>\n",
       "    </tr>\n",
       "    <tr>\n",
       "      <th>1571403</th>\n",
       "      <td>737424</td>\n",
       "      <td>3765</td>\n",
       "      <td>13930</td>\n",
       "      <td>10408</td>\n",
       "      <td>1405</td>\n",
       "      <td>1514</td>\n",
       "      <td>69.0</td>\n",
       "      <td>161.0</td>\n",
       "      <td>27.0</td>\n",
       "    </tr>\n",
       "  </tbody>\n",
       "</table>\n",
       "<p>1571404 rows × 9 columns</p>\n",
       "</div>"
      ],
      "text/plain": [
       "         fl_date  mkt_carrier_fl_num  origin_airport_id  dest_airport_id  \\\n",
       "0         737060                5611              14689            12892   \n",
       "2694      737060                4902              11618            13485   \n",
       "2695      737060                4901              12264            10990   \n",
       "2696      737060                4900              11618            12264   \n",
       "2697      737060                4880              11618            11066   \n",
       "...          ...                 ...                ...              ...   \n",
       "1568912   737424                3534              12339            12266   \n",
       "1568913   737424                3535              13871            13930   \n",
       "1568914   737424                3536              11278            11618   \n",
       "1568902   737424                3523              11618            13198   \n",
       "1571403   737424                3765              13930            10408   \n",
       "\n",
       "         crs_dep_time  crs_arr_time  crs_elapsed_time  distance  arr_delay  \n",
       "0                1915          2017              62.0      89.0      -23.0  \n",
       "2694              918          1106             168.0     799.0        9.0  \n",
       "2695             1745          1841              56.0      77.0      -15.0  \n",
       "2696             1855          2024              89.0     212.0      -17.0  \n",
       "2697              802          1004             122.0     463.0        0.0  \n",
       "...               ...           ...               ...       ...        ...  \n",
       "1568912          1705          1854             169.0     844.0        3.0  \n",
       "1568913           905          1053             108.0     416.0      -21.0  \n",
       "1568914          1955          2130              95.0     199.0      -24.0  \n",
       "1568902          1110          1346             216.0    1092.0      -29.0  \n",
       "1571403          1405          1514              69.0     161.0       27.0  \n",
       "\n",
       "[1571404 rows x 9 columns]"
      ]
     },
     "execution_count": 129,
     "metadata": {},
     "output_type": "execute_result"
    }
   ],
   "source": [
    "flights_data"
   ]
  },
  {
   "cell_type": "code",
   "execution_count": 130,
   "metadata": {},
   "outputs": [
    {
     "data": {
      "text/plain": [
       "array([[-1.76468988,  1.12265296,  1.39102956, ..., -1.10017984,\n",
       "        -1.12368113, -0.51130236],\n",
       "       [-1.76468988,  0.75632567, -0.79909211, ...,  0.33741137,\n",
       "         0.01705851, -0.01926269],\n",
       "       [-1.76468988,  0.75580899, -0.33838921, ..., -1.18155292,\n",
       "        -1.14296123, -0.38829244],\n",
       "       ...,\n",
       "       [ 1.72894401,  0.05053853, -1.04156732, ..., -0.65262786,\n",
       "        -0.94694682, -0.5266786 ],\n",
       "       [ 1.72894401,  0.04382167, -0.79909211, ...,  0.98839606,\n",
       "         0.48781445, -0.6035598 ],\n",
       "       [ 1.72894401,  0.16885863,  0.84973931, ..., -1.00524457,\n",
       "        -1.00800049,  0.25750962]])"
      ]
     },
     "execution_count": 130,
     "metadata": {},
     "output_type": "execute_result"
    }
   ],
   "source": [
    "scale = StandardScaler()\n",
    "scale.fit_transform(flights_data)"
   ]
  },
  {
   "cell_type": "code",
   "execution_count": 131,
   "metadata": {},
   "outputs": [],
   "source": [
    "X = flights_data[['fl_date', 'mkt_carrier_fl_num', 'origin_airport_id', 'dest_airport_id',\n",
    "       'crs_dep_time', 'crs_arr_time', 'crs_elapsed_time', 'distance']]\n",
    "y = flights_data['arr_delay']"
   ]
  },
  {
   "cell_type": "code",
   "execution_count": 132,
   "metadata": {},
   "outputs": [],
   "source": [
    "scale = StandardScaler()\n",
    "X = scale.fit_transform(X)"
   ]
  },
  {
   "cell_type": "code",
   "execution_count": 133,
   "metadata": {},
   "outputs": [],
   "source": [
    "X_train, X_test, y_train, y_test = train_test_split(X,y,train_size=0.8)"
   ]
  },
  {
   "cell_type": "markdown",
   "metadata": {},
   "source": [
    "Instantiate our model:"
   ]
  },
  {
   "cell_type": "code",
   "execution_count": 134,
   "metadata": {},
   "outputs": [],
   "source": [
    "linreg = LinearRegression()"
   ]
  },
  {
   "cell_type": "code",
   "execution_count": 135,
   "metadata": {},
   "outputs": [
    {
     "data": {
      "text/plain": [
       "LinearRegression()"
      ]
     },
     "execution_count": 135,
     "metadata": {},
     "output_type": "execute_result"
    }
   ],
   "source": [
    "linreg.fit(X_train,y_train)"
   ]
  },
  {
   "cell_type": "code",
   "execution_count": 136,
   "metadata": {},
   "outputs": [],
   "source": [
    "y_pred = linreg.predict(X_test)"
   ]
  },
  {
   "cell_type": "code",
   "execution_count": 137,
   "metadata": {},
   "outputs": [
    {
     "data": {
      "text/plain": [
       "array([ 7.34509451, 15.91493382,  1.8491733 , ...,  9.8713425 ,\n",
       "        4.26159511,  1.94428935])"
      ]
     },
     "execution_count": 137,
     "metadata": {},
     "output_type": "execute_result"
    }
   ],
   "source": [
    "y_pred"
   ]
  },
  {
   "cell_type": "code",
   "execution_count": 138,
   "metadata": {},
   "outputs": [
    {
     "data": {
      "text/plain": [
       "1169225   -12.0\n",
       "180716    -14.0\n",
       "919632      0.0\n",
       "746137     10.0\n",
       "1192761   -18.0\n",
       "           ... \n",
       "853467     30.0\n",
       "930637     88.0\n",
       "5046       -7.0\n",
       "76754      42.0\n",
       "623515    -20.0\n",
       "Name: arr_delay, Length: 314281, dtype: float64"
      ]
     },
     "execution_count": 138,
     "metadata": {},
     "output_type": "execute_result"
    }
   ],
   "source": [
    "y_test"
   ]
  },
  {
   "cell_type": "code",
   "execution_count": 139,
   "metadata": {},
   "outputs": [
    {
     "data": {
      "text/plain": [
       "0.008668886340901683"
      ]
     },
     "execution_count": 139,
     "metadata": {},
     "output_type": "execute_result"
    }
   ],
   "source": [
    "metrics.r2_score(y_test,y_pred)"
   ]
  },
  {
   "cell_type": "code",
   "execution_count": 109,
   "metadata": {},
   "outputs": [
    {
     "data": {
      "text/plain": [
       "0.00871690696617844"
      ]
     },
     "execution_count": 109,
     "metadata": {},
     "output_type": "execute_result"
    }
   ],
   "source": [
    "linreg.score(X_train,y_train)"
   ]
  },
  {
   "cell_type": "markdown",
   "metadata": {},
   "source": [
    "## Second Attempt"
   ]
  },
  {
   "cell_type": "code",
   "execution_count": 140,
   "metadata": {},
   "outputs": [
    {
     "data": {
      "text/plain": [
       "Index(['fl_date', 'mkt_carrier_fl_num', 'origin_airport_id', 'dest_airport_id',\n",
       "       'crs_dep_time', 'crs_arr_time', 'crs_elapsed_time', 'distance',\n",
       "       'arr_delay'],\n",
       "      dtype='object')"
      ]
     },
     "execution_count": 140,
     "metadata": {},
     "output_type": "execute_result"
    }
   ],
   "source": [
    "flights_data.columns"
   ]
  },
  {
   "cell_type": "code",
   "execution_count": 142,
   "metadata": {},
   "outputs": [
    {
     "data": {
      "text/html": [
       "<div>\n",
       "<style scoped>\n",
       "    .dataframe tbody tr th:only-of-type {\n",
       "        vertical-align: middle;\n",
       "    }\n",
       "\n",
       "    .dataframe tbody tr th {\n",
       "        vertical-align: top;\n",
       "    }\n",
       "\n",
       "    .dataframe thead th {\n",
       "        text-align: right;\n",
       "    }\n",
       "</style>\n",
       "<table border=\"1\" class=\"dataframe\">\n",
       "  <thead>\n",
       "    <tr style=\"text-align: right;\">\n",
       "      <th></th>\n",
       "      <th>fl_date</th>\n",
       "      <th>mkt_carrier_fl_num</th>\n",
       "      <th>origin_airport_id</th>\n",
       "      <th>dest_airport_id</th>\n",
       "      <th>crs_dep_time</th>\n",
       "      <th>crs_arr_time</th>\n",
       "      <th>crs_elapsed_time</th>\n",
       "      <th>distance</th>\n",
       "      <th>arr_delay</th>\n",
       "    </tr>\n",
       "  </thead>\n",
       "  <tbody>\n",
       "    <tr>\n",
       "      <th>0</th>\n",
       "      <td>737060</td>\n",
       "      <td>5611</td>\n",
       "      <td>14689</td>\n",
       "      <td>12892</td>\n",
       "      <td>1915</td>\n",
       "      <td>2017</td>\n",
       "      <td>62.0</td>\n",
       "      <td>89.0</td>\n",
       "      <td>-23.0</td>\n",
       "    </tr>\n",
       "    <tr>\n",
       "      <th>2694</th>\n",
       "      <td>737060</td>\n",
       "      <td>4902</td>\n",
       "      <td>11618</td>\n",
       "      <td>13485</td>\n",
       "      <td>918</td>\n",
       "      <td>1106</td>\n",
       "      <td>168.0</td>\n",
       "      <td>799.0</td>\n",
       "      <td>9.0</td>\n",
       "    </tr>\n",
       "    <tr>\n",
       "      <th>2695</th>\n",
       "      <td>737060</td>\n",
       "      <td>4901</td>\n",
       "      <td>12264</td>\n",
       "      <td>10990</td>\n",
       "      <td>1745</td>\n",
       "      <td>1841</td>\n",
       "      <td>56.0</td>\n",
       "      <td>77.0</td>\n",
       "      <td>-15.0</td>\n",
       "    </tr>\n",
       "    <tr>\n",
       "      <th>2696</th>\n",
       "      <td>737060</td>\n",
       "      <td>4900</td>\n",
       "      <td>11618</td>\n",
       "      <td>12264</td>\n",
       "      <td>1855</td>\n",
       "      <td>2024</td>\n",
       "      <td>89.0</td>\n",
       "      <td>212.0</td>\n",
       "      <td>-17.0</td>\n",
       "    </tr>\n",
       "    <tr>\n",
       "      <th>2697</th>\n",
       "      <td>737060</td>\n",
       "      <td>4880</td>\n",
       "      <td>11618</td>\n",
       "      <td>11066</td>\n",
       "      <td>802</td>\n",
       "      <td>1004</td>\n",
       "      <td>122.0</td>\n",
       "      <td>463.0</td>\n",
       "      <td>0.0</td>\n",
       "    </tr>\n",
       "    <tr>\n",
       "      <th>...</th>\n",
       "      <td>...</td>\n",
       "      <td>...</td>\n",
       "      <td>...</td>\n",
       "      <td>...</td>\n",
       "      <td>...</td>\n",
       "      <td>...</td>\n",
       "      <td>...</td>\n",
       "      <td>...</td>\n",
       "      <td>...</td>\n",
       "    </tr>\n",
       "    <tr>\n",
       "      <th>1568912</th>\n",
       "      <td>737424</td>\n",
       "      <td>3534</td>\n",
       "      <td>12339</td>\n",
       "      <td>12266</td>\n",
       "      <td>1705</td>\n",
       "      <td>1854</td>\n",
       "      <td>169.0</td>\n",
       "      <td>844.0</td>\n",
       "      <td>3.0</td>\n",
       "    </tr>\n",
       "    <tr>\n",
       "      <th>1568913</th>\n",
       "      <td>737424</td>\n",
       "      <td>3535</td>\n",
       "      <td>13871</td>\n",
       "      <td>13930</td>\n",
       "      <td>905</td>\n",
       "      <td>1053</td>\n",
       "      <td>108.0</td>\n",
       "      <td>416.0</td>\n",
       "      <td>-21.0</td>\n",
       "    </tr>\n",
       "    <tr>\n",
       "      <th>1568914</th>\n",
       "      <td>737424</td>\n",
       "      <td>3536</td>\n",
       "      <td>11278</td>\n",
       "      <td>11618</td>\n",
       "      <td>1955</td>\n",
       "      <td>2130</td>\n",
       "      <td>95.0</td>\n",
       "      <td>199.0</td>\n",
       "      <td>-24.0</td>\n",
       "    </tr>\n",
       "    <tr>\n",
       "      <th>1568902</th>\n",
       "      <td>737424</td>\n",
       "      <td>3523</td>\n",
       "      <td>11618</td>\n",
       "      <td>13198</td>\n",
       "      <td>1110</td>\n",
       "      <td>1346</td>\n",
       "      <td>216.0</td>\n",
       "      <td>1092.0</td>\n",
       "      <td>-29.0</td>\n",
       "    </tr>\n",
       "    <tr>\n",
       "      <th>1571403</th>\n",
       "      <td>737424</td>\n",
       "      <td>3765</td>\n",
       "      <td>13930</td>\n",
       "      <td>10408</td>\n",
       "      <td>1405</td>\n",
       "      <td>1514</td>\n",
       "      <td>69.0</td>\n",
       "      <td>161.0</td>\n",
       "      <td>27.0</td>\n",
       "    </tr>\n",
       "  </tbody>\n",
       "</table>\n",
       "<p>1571404 rows × 9 columns</p>\n",
       "</div>"
      ],
      "text/plain": [
       "         fl_date  mkt_carrier_fl_num  origin_airport_id  dest_airport_id  \\\n",
       "0         737060                5611              14689            12892   \n",
       "2694      737060                4902              11618            13485   \n",
       "2695      737060                4901              12264            10990   \n",
       "2696      737060                4900              11618            12264   \n",
       "2697      737060                4880              11618            11066   \n",
       "...          ...                 ...                ...              ...   \n",
       "1568912   737424                3534              12339            12266   \n",
       "1568913   737424                3535              13871            13930   \n",
       "1568914   737424                3536              11278            11618   \n",
       "1568902   737424                3523              11618            13198   \n",
       "1571403   737424                3765              13930            10408   \n",
       "\n",
       "         crs_dep_time  crs_arr_time  crs_elapsed_time  distance  arr_delay  \n",
       "0                1915          2017              62.0      89.0      -23.0  \n",
       "2694              918          1106             168.0     799.0        9.0  \n",
       "2695             1745          1841              56.0      77.0      -15.0  \n",
       "2696             1855          2024              89.0     212.0      -17.0  \n",
       "2697              802          1004             122.0     463.0        0.0  \n",
       "...               ...           ...               ...       ...        ...  \n",
       "1568912          1705          1854             169.0     844.0        3.0  \n",
       "1568913           905          1053             108.0     416.0      -21.0  \n",
       "1568914          1955          2130              95.0     199.0      -24.0  \n",
       "1568902          1110          1346             216.0    1092.0      -29.0  \n",
       "1571403          1405          1514              69.0     161.0       27.0  \n",
       "\n",
       "[1571404 rows x 9 columns]"
      ]
     },
     "execution_count": 142,
     "metadata": {},
     "output_type": "execute_result"
    }
   ],
   "source": [
    "flights_data"
   ]
  },
  {
   "cell_type": "code",
   "execution_count": 144,
   "metadata": {},
   "outputs": [
    {
     "data": {
      "text/html": [
       "<div>\n",
       "<style scoped>\n",
       "    .dataframe tbody tr th:only-of-type {\n",
       "        vertical-align: middle;\n",
       "    }\n",
       "\n",
       "    .dataframe tbody tr th {\n",
       "        vertical-align: top;\n",
       "    }\n",
       "\n",
       "    .dataframe thead th {\n",
       "        text-align: right;\n",
       "    }\n",
       "</style>\n",
       "<table border=\"1\" class=\"dataframe\">\n",
       "  <thead>\n",
       "    <tr style=\"text-align: right;\">\n",
       "      <th></th>\n",
       "      <th>fl_date</th>\n",
       "      <th>crs_elapsed_time</th>\n",
       "      <th>distance</th>\n",
       "      <th>arr_delay</th>\n",
       "    </tr>\n",
       "  </thead>\n",
       "  <tbody>\n",
       "    <tr>\n",
       "      <th>0</th>\n",
       "      <td>737060</td>\n",
       "      <td>62.0</td>\n",
       "      <td>89.0</td>\n",
       "      <td>-23.0</td>\n",
       "    </tr>\n",
       "    <tr>\n",
       "      <th>2694</th>\n",
       "      <td>737060</td>\n",
       "      <td>168.0</td>\n",
       "      <td>799.0</td>\n",
       "      <td>9.0</td>\n",
       "    </tr>\n",
       "    <tr>\n",
       "      <th>2695</th>\n",
       "      <td>737060</td>\n",
       "      <td>56.0</td>\n",
       "      <td>77.0</td>\n",
       "      <td>-15.0</td>\n",
       "    </tr>\n",
       "    <tr>\n",
       "      <th>2696</th>\n",
       "      <td>737060</td>\n",
       "      <td>89.0</td>\n",
       "      <td>212.0</td>\n",
       "      <td>-17.0</td>\n",
       "    </tr>\n",
       "    <tr>\n",
       "      <th>2697</th>\n",
       "      <td>737060</td>\n",
       "      <td>122.0</td>\n",
       "      <td>463.0</td>\n",
       "      <td>0.0</td>\n",
       "    </tr>\n",
       "    <tr>\n",
       "      <th>...</th>\n",
       "      <td>...</td>\n",
       "      <td>...</td>\n",
       "      <td>...</td>\n",
       "      <td>...</td>\n",
       "    </tr>\n",
       "    <tr>\n",
       "      <th>1568912</th>\n",
       "      <td>737424</td>\n",
       "      <td>169.0</td>\n",
       "      <td>844.0</td>\n",
       "      <td>3.0</td>\n",
       "    </tr>\n",
       "    <tr>\n",
       "      <th>1568913</th>\n",
       "      <td>737424</td>\n",
       "      <td>108.0</td>\n",
       "      <td>416.0</td>\n",
       "      <td>-21.0</td>\n",
       "    </tr>\n",
       "    <tr>\n",
       "      <th>1568914</th>\n",
       "      <td>737424</td>\n",
       "      <td>95.0</td>\n",
       "      <td>199.0</td>\n",
       "      <td>-24.0</td>\n",
       "    </tr>\n",
       "    <tr>\n",
       "      <th>1568902</th>\n",
       "      <td>737424</td>\n",
       "      <td>216.0</td>\n",
       "      <td>1092.0</td>\n",
       "      <td>-29.0</td>\n",
       "    </tr>\n",
       "    <tr>\n",
       "      <th>1571403</th>\n",
       "      <td>737424</td>\n",
       "      <td>69.0</td>\n",
       "      <td>161.0</td>\n",
       "      <td>27.0</td>\n",
       "    </tr>\n",
       "  </tbody>\n",
       "</table>\n",
       "<p>1571404 rows × 4 columns</p>\n",
       "</div>"
      ],
      "text/plain": [
       "         fl_date  crs_elapsed_time  distance  arr_delay\n",
       "0         737060              62.0      89.0      -23.0\n",
       "2694      737060             168.0     799.0        9.0\n",
       "2695      737060              56.0      77.0      -15.0\n",
       "2696      737060              89.0     212.0      -17.0\n",
       "2697      737060             122.0     463.0        0.0\n",
       "...          ...               ...       ...        ...\n",
       "1568912   737424             169.0     844.0        3.0\n",
       "1568913   737424             108.0     416.0      -21.0\n",
       "1568914   737424              95.0     199.0      -24.0\n",
       "1568902   737424             216.0    1092.0      -29.0\n",
       "1571403   737424              69.0     161.0       27.0\n",
       "\n",
       "[1571404 rows x 4 columns]"
      ]
     },
     "execution_count": 144,
     "metadata": {},
     "output_type": "execute_result"
    }
   ],
   "source": [
    "flights_data.drop(columns=['mkt_carrier_fl_num', 'origin_airport_id', 'dest_airport_id',\n",
    "       'crs_dep_time', 'crs_arr_time'])"
   ]
  },
  {
   "cell_type": "code",
   "execution_count": 147,
   "metadata": {},
   "outputs": [],
   "source": [
    "X = flights_data[['fl_date','crs_elapsed_time','distance']]\n",
    "y = flights_data['arr_delay']"
   ]
  },
  {
   "cell_type": "code",
   "execution_count": 151,
   "metadata": {},
   "outputs": [],
   "source": [
    "scale = StandardScaler()\n",
    "X = scale.fit_transform(X)"
   ]
  },
  {
   "cell_type": "code",
   "execution_count": 153,
   "metadata": {},
   "outputs": [],
   "source": [
    "X_train, X_test, y_train, y_test = train_test_split(X,y,train_size=.8)"
   ]
  },
  {
   "cell_type": "code",
   "execution_count": 154,
   "metadata": {},
   "outputs": [],
   "source": [
    "linreg = LinearRegression()"
   ]
  },
  {
   "cell_type": "code",
   "execution_count": 156,
   "metadata": {},
   "outputs": [
    {
     "data": {
      "text/plain": [
       "LinearRegression()"
      ]
     },
     "execution_count": 156,
     "metadata": {},
     "output_type": "execute_result"
    }
   ],
   "source": [
    "linreg.fit(X_train,y_train)"
   ]
  },
  {
   "cell_type": "code",
   "execution_count": 157,
   "metadata": {},
   "outputs": [
    {
     "data": {
      "text/plain": [
       "0.001175113335788236"
      ]
     },
     "execution_count": 157,
     "metadata": {},
     "output_type": "execute_result"
    }
   ],
   "source": [
    "linreg.score(X_train,y_train)"
   ]
  }
 ],
 "metadata": {
  "kernelspec": {
   "display_name": "Python 3",
   "language": "python",
   "name": "python3"
  },
  "language_info": {
   "codemirror_mode": {
    "name": "ipython",
    "version": 3
   },
   "file_extension": ".py",
   "mimetype": "text/x-python",
   "name": "python",
   "nbconvert_exporter": "python",
   "pygments_lexer": "ipython3",
   "version": "3.7.7"
  }
 },
 "nbformat": 4,
 "nbformat_minor": 4
}
