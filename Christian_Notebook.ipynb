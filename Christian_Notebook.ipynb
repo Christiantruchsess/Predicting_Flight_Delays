{
 "cells": [
  {
   "cell_type": "markdown",
   "metadata": {},
   "source": [
    "# Objective: Building a model that predicts flight delays a week in advance, using data from an SQL Database for US flights"
   ]
  },
  {
   "cell_type": "markdown",
   "metadata": {},
   "source": [
    "As a first approach to the problem, we will limit the scope of the model to predicting delays in a single airline, DL. The first goal is to build a baseline simple model as a benchmark, to then subsequently improve upon iteratively. \n",
    "\n",
    "Because the size of the data was so unwieldly (around 15 million rows) we selected a sample of around 1 million rows for all months in 2019 to work with."
   ]
  },
  {
   "cell_type": "code",
   "execution_count": 68,
   "metadata": {},
   "outputs": [],
   "source": [
    "# import required packages\n",
    "import numpy as np \n",
    "import pandas as pd\n",
    "import psycopg2\n",
    "import matplotlib.pyplot as plt\n",
    "import seaborn as sns\n",
    "from sklearn.linear_model import LinearRegression\n",
    "from sklearn.model_selection import GridSearchCV\n",
    "from sklearn.model_selection import train_test_split\n",
    "from local_python_packages.features_adding import replace_nan_with_mean"
   ]
  },
  {
   "cell_type": "markdown",
   "metadata": {},
   "source": [
    "## Data Extraction\n",
    "\n",
    "Data was extracted to .csv files using a function found in the Postgres connection notebook. "
   ]
  },
  {
   "cell_type": "code",
   "execution_count": 69,
   "metadata": {},
   "outputs": [],
   "source": [
    "pd.set_option('display.max_columns', None)\n",
    "flights_data = pd.read_csv('UA flights 2019.csv',parse_dates=[0])\n",
    "flights_data = flights_data.sort_values(['fl_date'])"
   ]
  },
  {
   "cell_type": "code",
   "execution_count": 70,
   "metadata": {},
   "outputs": [
    {
     "data": {
      "text/html": [
       "<div>\n",
       "<style scoped>\n",
       "    .dataframe tbody tr th:only-of-type {\n",
       "        vertical-align: middle;\n",
       "    }\n",
       "\n",
       "    .dataframe tbody tr th {\n",
       "        vertical-align: top;\n",
       "    }\n",
       "\n",
       "    .dataframe thead th {\n",
       "        text-align: right;\n",
       "    }\n",
       "</style>\n",
       "<table border=\"1\" class=\"dataframe\">\n",
       "  <thead>\n",
       "    <tr style=\"text-align: right;\">\n",
       "      <th></th>\n",
       "      <th>fl_date</th>\n",
       "      <th>mkt_carrier</th>\n",
       "      <th>mkt_carrier_fl_num</th>\n",
       "      <th>tail_num</th>\n",
       "      <th>op_carrier_fl_num</th>\n",
       "      <th>origin_airport_id</th>\n",
       "      <th>origin</th>\n",
       "      <th>origin_city_name</th>\n",
       "      <th>dest_airport_id</th>\n",
       "      <th>dest</th>\n",
       "      <th>dest_city_name</th>\n",
       "      <th>crs_dep_time</th>\n",
       "      <th>dep_time</th>\n",
       "      <th>dep_delay</th>\n",
       "      <th>taxi_out</th>\n",
       "      <th>wheels_off</th>\n",
       "      <th>wheels_on</th>\n",
       "      <th>taxi_in</th>\n",
       "      <th>crs_arr_time</th>\n",
       "      <th>arr_time</th>\n",
       "      <th>arr_delay</th>\n",
       "      <th>cancelled</th>\n",
       "      <th>cancellation_code</th>\n",
       "      <th>diverted</th>\n",
       "      <th>dup</th>\n",
       "      <th>crs_elapsed_time</th>\n",
       "      <th>actual_elapsed_time</th>\n",
       "      <th>air_time</th>\n",
       "      <th>flights</th>\n",
       "      <th>distance</th>\n",
       "      <th>carrier_delay</th>\n",
       "      <th>weather_delay</th>\n",
       "      <th>nas_delay</th>\n",
       "      <th>security_delay</th>\n",
       "      <th>late_aircraft_delay</th>\n",
       "      <th>first_dep_time</th>\n",
       "      <th>total_add_gtime</th>\n",
       "      <th>longest_add_gtime</th>\n",
       "      <th>no_name</th>\n",
       "    </tr>\n",
       "  </thead>\n",
       "  <tbody>\n",
       "    <tr>\n",
       "      <th>0</th>\n",
       "      <td>2019-01-01</td>\n",
       "      <td>UA</td>\n",
       "      <td>5611</td>\n",
       "      <td>N947SW</td>\n",
       "      <td>5611</td>\n",
       "      <td>14689</td>\n",
       "      <td>SBA</td>\n",
       "      <td>Santa Barbara, CA</td>\n",
       "      <td>12892</td>\n",
       "      <td>LAX</td>\n",
       "      <td>Los Angeles, CA</td>\n",
       "      <td>1915</td>\n",
       "      <td>1904.0</td>\n",
       "      <td>-11.0</td>\n",
       "      <td>12.0</td>\n",
       "      <td>1916.0</td>\n",
       "      <td>1942.0</td>\n",
       "      <td>12.0</td>\n",
       "      <td>2017</td>\n",
       "      <td>1954.0</td>\n",
       "      <td>-23.0</td>\n",
       "      <td>0.0</td>\n",
       "      <td>NaN</td>\n",
       "      <td>0.0</td>\n",
       "      <td>N</td>\n",
       "      <td>62.0</td>\n",
       "      <td>50.0</td>\n",
       "      <td>26.0</td>\n",
       "      <td>1.0</td>\n",
       "      <td>89.0</td>\n",
       "      <td>NaN</td>\n",
       "      <td>NaN</td>\n",
       "      <td>NaN</td>\n",
       "      <td>NaN</td>\n",
       "      <td>NaN</td>\n",
       "      <td>NaN</td>\n",
       "      <td>NaN</td>\n",
       "      <td>NaN</td>\n",
       "      <td>NaN</td>\n",
       "    </tr>\n",
       "    <tr>\n",
       "      <th>2694</th>\n",
       "      <td>2019-01-01</td>\n",
       "      <td>UA</td>\n",
       "      <td>4902</td>\n",
       "      <td>N11181</td>\n",
       "      <td>4902</td>\n",
       "      <td>11618</td>\n",
       "      <td>EWR</td>\n",
       "      <td>Newark, NJ</td>\n",
       "      <td>13485</td>\n",
       "      <td>MSN</td>\n",
       "      <td>Madison, WI</td>\n",
       "      <td>918</td>\n",
       "      <td>925.0</td>\n",
       "      <td>7.0</td>\n",
       "      <td>21.0</td>\n",
       "      <td>946.0</td>\n",
       "      <td>1112.0</td>\n",
       "      <td>3.0</td>\n",
       "      <td>1106</td>\n",
       "      <td>1115.0</td>\n",
       "      <td>9.0</td>\n",
       "      <td>0.0</td>\n",
       "      <td>NaN</td>\n",
       "      <td>0.0</td>\n",
       "      <td>N</td>\n",
       "      <td>168.0</td>\n",
       "      <td>170.0</td>\n",
       "      <td>146.0</td>\n",
       "      <td>1.0</td>\n",
       "      <td>799.0</td>\n",
       "      <td>NaN</td>\n",
       "      <td>NaN</td>\n",
       "      <td>NaN</td>\n",
       "      <td>NaN</td>\n",
       "      <td>NaN</td>\n",
       "      <td>NaN</td>\n",
       "      <td>NaN</td>\n",
       "      <td>NaN</td>\n",
       "      <td>NaN</td>\n",
       "    </tr>\n",
       "  </tbody>\n",
       "</table>\n",
       "</div>"
      ],
      "text/plain": [
       "        fl_date mkt_carrier  mkt_carrier_fl_num tail_num  op_carrier_fl_num  \\\n",
       "0    2019-01-01          UA                5611   N947SW               5611   \n",
       "2694 2019-01-01          UA                4902   N11181               4902   \n",
       "\n",
       "      origin_airport_id origin   origin_city_name  dest_airport_id dest  \\\n",
       "0                 14689    SBA  Santa Barbara, CA            12892  LAX   \n",
       "2694              11618    EWR         Newark, NJ            13485  MSN   \n",
       "\n",
       "       dest_city_name  crs_dep_time  dep_time  dep_delay  taxi_out  \\\n",
       "0     Los Angeles, CA          1915    1904.0      -11.0      12.0   \n",
       "2694      Madison, WI           918     925.0        7.0      21.0   \n",
       "\n",
       "      wheels_off  wheels_on  taxi_in  crs_arr_time  arr_time  arr_delay  \\\n",
       "0         1916.0     1942.0     12.0          2017    1954.0      -23.0   \n",
       "2694       946.0     1112.0      3.0          1106    1115.0        9.0   \n",
       "\n",
       "      cancelled cancellation_code  diverted dup  crs_elapsed_time  \\\n",
       "0           0.0               NaN       0.0   N              62.0   \n",
       "2694        0.0               NaN       0.0   N             168.0   \n",
       "\n",
       "      actual_elapsed_time  air_time  flights  distance  carrier_delay  \\\n",
       "0                    50.0      26.0      1.0      89.0            NaN   \n",
       "2694                170.0     146.0      1.0     799.0            NaN   \n",
       "\n",
       "      weather_delay  nas_delay  security_delay  late_aircraft_delay  \\\n",
       "0               NaN        NaN             NaN                  NaN   \n",
       "2694            NaN        NaN             NaN                  NaN   \n",
       "\n",
       "      first_dep_time  total_add_gtime  longest_add_gtime  no_name  \n",
       "0                NaN              NaN                NaN      NaN  \n",
       "2694             NaN              NaN                NaN      NaN  "
      ]
     },
     "execution_count": 70,
     "metadata": {},
     "output_type": "execute_result"
    }
   ],
   "source": [
    "flights_data.head(2)"
   ]
  },
  {
   "cell_type": "markdown",
   "metadata": {},
   "source": [
    "We will also connect to the database in order to extract any extra information we may need."
   ]
  },
  {
   "cell_type": "code",
   "execution_count": 71,
   "metadata": {},
   "outputs": [],
   "source": [
    "# connect to database and build query function\n",
    "conn = psycopg2.connect(\n",
    "    host=\"mid-term-project.ca2jkepgjpne.us-east-2.rds.amazonaws.com\",\n",
    "    database=\"mid_term_project\",\n",
    "    user=\"lhl_student\",\n",
    "    password=\"lhl_student\")\n",
    "\n",
    "def query(query):\n",
    "    return pd.read_sql(query,conn)"
   ]
  },
  {
   "cell_type": "markdown",
   "metadata": {},
   "source": [
    "## Data Preparation"
   ]
  },
  {
   "cell_type": "markdown",
   "metadata": {},
   "source": [
    "Because the objective is to build a predictive model, not all the data features recorded in the (historical) flights table of the database would be available to the model at the moment of prediction.\n",
    "\n",
    "Therefore, our training features have to correspond to the features that we would eventually have available to predict with."
   ]
  },
  {
   "cell_type": "code",
   "execution_count": 72,
   "metadata": {},
   "outputs": [],
   "source": [
    "training_features = query('SELECT * FROM flights_test LIMIT 1').columns.to_list()"
   ]
  },
  {
   "cell_type": "code",
   "execution_count": 73,
   "metadata": {},
   "outputs": [
    {
     "data": {
      "text/plain": [
       "['fl_date',\n",
       " 'mkt_unique_carrier',\n",
       " 'branded_code_share',\n",
       " 'mkt_carrier',\n",
       " 'mkt_carrier_fl_num',\n",
       " 'op_unique_carrier',\n",
       " 'tail_num',\n",
       " 'op_carrier_fl_num',\n",
       " 'origin_airport_id',\n",
       " 'origin',\n",
       " 'origin_city_name',\n",
       " 'dest_airport_id',\n",
       " 'dest',\n",
       " 'dest_city_name',\n",
       " 'crs_dep_time',\n",
       " 'crs_arr_time',\n",
       " 'dup',\n",
       " 'crs_elapsed_time',\n",
       " 'flights',\n",
       " 'distance']"
      ]
     },
     "execution_count": 73,
     "metadata": {},
     "output_type": "execute_result"
    }
   ],
   "source": [
    "training_features"
   ]
  },
  {
   "cell_type": "markdown",
   "metadata": {},
   "source": [
    "## Feature Engineering"
   ]
  },
  {
   "cell_type": "markdown",
   "metadata": {},
   "source": [
    "A little bit of research will provide us with sufficient domain knowledge to be confident in our decisions when feature engineering:"
   ]
  },
  {
   "cell_type": "markdown",
   "metadata": {},
   "source": [
    "(...)_we first define different terms that constitute the travel time segments: computerized reservation system (CRS) departure/arrival time is the scheduled departure/arrival time of the flight, wheels off is the time when the wheels of the aircraft leave the ground at the origin airport, and wheels on is the time when the wheels of the aircraft touch the ground at the destination airport. The departure delay of an aircraft is the difference between the actual departure time and the CRS departure time of the flight. Arrival delay equals actual arrival time minus the scheduled arrival time_(...)\n",
    "\n",
    "source: https://stat-or.unc.edu/wp-content/uploads/sites/182/2018/09/Paper3_MSOM_2012_AirlineFlightDelays.pdf"
   ]
  },
  {
   "cell_type": "markdown",
   "metadata": {},
   "source": [
    "We pick the features we want to keep from the \"training_features\" list extracted above. \n",
    "\n",
    "- We _keep_ `fl_date` (flight date) because the time of the year can potentially influence delays.\n",
    "- We _remove_ `mkt_unique_carrier`,`branded_code_share`,`mkt_carrier`, `op_unique_carrier` (carrier identifiers) because we are dealing with a single airline anyways. \n",
    "- We _keep_ `mkt_carrier_fl_num` (flight number), because a specific flight might be recurringly problematic, therefore easy to predict delays for. \n",
    "- We _remove_ `tail_num` (aircraft identifier), because it is categorical and there are too many planes to turn it into dummy variables. \n",
    "- We _remove_ `op_carrier_fl_num` (flight number) because we already have `mkt_carrier_fl_num`.\n",
    "- Our model will only look at origin airport and destination airport, identified by `origin_airport_id` and `dest_airport_id` respectively; the name of the airport, city or state is irrelevant, therefore we _remove_ `origin` (name of airport), `origin_city_name` (origin airport and city name), `dest` and `dest_city_name`.\n",
    "- We _keep_ `crs_dep_time`, `crs_arr_time` and `crs_elapsed_time` (scheduled departure, arrival and time of flight) because they are our reference points in time; flights scheduled for busy times in the day might be more susceptible to delays.\n",
    "- We _remove_ `dup` and `flights` because they provide us no information (same value for all rows, N and 1 respectively).\n",
    "- We _keep_ arr_delay because it is our target variable"
   ]
  },
  {
   "cell_type": "code",
   "execution_count": 74,
   "metadata": {},
   "outputs": [],
   "source": [
    " removal_list = ['mkt_unique_carrier','branded_code_share','mkt_carrier','op_unique_carrier','op_carrier_fl_num','tail_num','origin','origin_city_name','dest','dest_city_name','dup','flights']"
   ]
  },
  {
   "cell_type": "code",
   "execution_count": 77,
   "metadata": {},
   "outputs": [],
   "source": [
    "def distill_features(df, test_features = ['fl_date','mkt_unique_carrier','branded_code_share','mkt_carrier','mkt_carrier_fl_num',\n",
    "                                          'op_unique_carrier','tail_num','op_carrier_fl_num','origin_airport_id','origin',\n",
    "                                          'origin_city_name','dest_airport_id','dest','dest_city_name','crs_dep_time','crs_arr_time',\n",
    "                                          'dup','crs_elapsed_time','flights','distance'],\n",
    "                        removal_list=['mkt_unique_carrier','branded_code_share','mkt_carrier','op_unique_carrier','op_carrier_fl_num',\n",
    "                                        'tail_num','origin','origin_city_name','dest','dest_city_name','dup','flights'],\n",
    "                         target='arr_delay'):\n",
    "    \n",
    "    training_features = [ x for x in test_features if x not in removal_list]\n",
    "    training_features.append('arr_delay')\n",
    "    df = df[training_features]\n",
    "    return df"
   ]
  },
  {
   "cell_type": "code",
   "execution_count": 82,
   "metadata": {},
   "outputs": [],
   "source": [
    "flights_data = distill_features(flights_data)"
   ]
  },
  {
   "cell_type": "markdown",
   "metadata": {},
   "source": [
    "Now that we have reduced the features we are going to work with, we proceed to clean up our dataframe. First, we will check our data types. "
   ]
  },
  {
   "cell_type": "code",
   "execution_count": 83,
   "metadata": {},
   "outputs": [
    {
     "data": {
      "text/plain": [
       "fl_date               datetime64[ns]\n",
       "mkt_carrier_fl_num             int64\n",
       "origin_airport_id              int64\n",
       "dest_airport_id                int64\n",
       "crs_dep_time                   int64\n",
       "crs_arr_time                   int64\n",
       "crs_elapsed_time             float64\n",
       "distance                     float64\n",
       "arr_delay                    float64\n",
       "dtype: object"
      ]
     },
     "execution_count": 83,
     "metadata": {},
     "output_type": "execute_result"
    }
   ],
   "source": [
    "flights_data.dtypes"
   ]
  },
  {
   "cell_type": "code",
   "execution_count": 53,
   "metadata": {},
   "outputs": [
    {
     "data": {
      "text/plain": [
       "fl_date               datetime64[ns]\n",
       "mkt_carrier_fl_num             int64\n",
       "origin_airport_id              int64\n",
       "dest_airport_id                int64\n",
       "crs_dep_time                   int64\n",
       "crs_arr_time                   int64\n",
       "crs_elapsed_time             float64\n",
       "distance                     float64\n",
       "arr_delay                    float64\n",
       "dtype: object"
      ]
     },
     "execution_count": 53,
     "metadata": {},
     "output_type": "execute_result"
    }
   ],
   "source": [
    "flights_data = flights_data[training_features]\n",
    "flights_data.dtypes"
   ]
  },
  {
   "cell_type": "markdown",
   "metadata": {},
   "source": [
    "Convert datetime objects to integers:"
   ]
  },
  {
   "cell_type": "code",
   "execution_count": 54,
   "metadata": {},
   "outputs": [],
   "source": [
    "def make_dates_ordinal(df, dates_column):\n",
    "    import datetime as dt\n",
    "    df[dates_column] = df[dates_column].map(dt.datetime.toordinal)\n",
    "    return df"
   ]
  },
  {
   "cell_type": "code",
   "execution_count": 55,
   "metadata": {},
   "outputs": [
    {
     "data": {
      "text/html": [
       "<div>\n",
       "<style scoped>\n",
       "    .dataframe tbody tr th:only-of-type {\n",
       "        vertical-align: middle;\n",
       "    }\n",
       "\n",
       "    .dataframe tbody tr th {\n",
       "        vertical-align: top;\n",
       "    }\n",
       "\n",
       "    .dataframe thead th {\n",
       "        text-align: right;\n",
       "    }\n",
       "</style>\n",
       "<table border=\"1\" class=\"dataframe\">\n",
       "  <thead>\n",
       "    <tr style=\"text-align: right;\">\n",
       "      <th></th>\n",
       "      <th>fl_date</th>\n",
       "      <th>mkt_carrier_fl_num</th>\n",
       "      <th>origin_airport_id</th>\n",
       "      <th>dest_airport_id</th>\n",
       "      <th>crs_dep_time</th>\n",
       "      <th>crs_arr_time</th>\n",
       "      <th>crs_elapsed_time</th>\n",
       "      <th>distance</th>\n",
       "      <th>arr_delay</th>\n",
       "    </tr>\n",
       "  </thead>\n",
       "  <tbody>\n",
       "    <tr>\n",
       "      <th>0</th>\n",
       "      <td>737060</td>\n",
       "      <td>5611</td>\n",
       "      <td>14689</td>\n",
       "      <td>12892</td>\n",
       "      <td>1915</td>\n",
       "      <td>2017</td>\n",
       "      <td>62.0</td>\n",
       "      <td>89.0</td>\n",
       "      <td>-23.0</td>\n",
       "    </tr>\n",
       "    <tr>\n",
       "      <th>2694</th>\n",
       "      <td>737060</td>\n",
       "      <td>4902</td>\n",
       "      <td>11618</td>\n",
       "      <td>13485</td>\n",
       "      <td>918</td>\n",
       "      <td>1106</td>\n",
       "      <td>168.0</td>\n",
       "      <td>799.0</td>\n",
       "      <td>9.0</td>\n",
       "    </tr>\n",
       "    <tr>\n",
       "      <th>2695</th>\n",
       "      <td>737060</td>\n",
       "      <td>4901</td>\n",
       "      <td>12264</td>\n",
       "      <td>10990</td>\n",
       "      <td>1745</td>\n",
       "      <td>1841</td>\n",
       "      <td>56.0</td>\n",
       "      <td>77.0</td>\n",
       "      <td>-15.0</td>\n",
       "    </tr>\n",
       "    <tr>\n",
       "      <th>2696</th>\n",
       "      <td>737060</td>\n",
       "      <td>4900</td>\n",
       "      <td>11618</td>\n",
       "      <td>12264</td>\n",
       "      <td>1855</td>\n",
       "      <td>2024</td>\n",
       "      <td>89.0</td>\n",
       "      <td>212.0</td>\n",
       "      <td>-17.0</td>\n",
       "    </tr>\n",
       "    <tr>\n",
       "      <th>2697</th>\n",
       "      <td>737060</td>\n",
       "      <td>4880</td>\n",
       "      <td>11618</td>\n",
       "      <td>11066</td>\n",
       "      <td>802</td>\n",
       "      <td>1004</td>\n",
       "      <td>122.0</td>\n",
       "      <td>463.0</td>\n",
       "      <td>0.0</td>\n",
       "    </tr>\n",
       "    <tr>\n",
       "      <th>...</th>\n",
       "      <td>...</td>\n",
       "      <td>...</td>\n",
       "      <td>...</td>\n",
       "      <td>...</td>\n",
       "      <td>...</td>\n",
       "      <td>...</td>\n",
       "      <td>...</td>\n",
       "      <td>...</td>\n",
       "      <td>...</td>\n",
       "    </tr>\n",
       "    <tr>\n",
       "      <th>1568912</th>\n",
       "      <td>737424</td>\n",
       "      <td>3534</td>\n",
       "      <td>12339</td>\n",
       "      <td>12266</td>\n",
       "      <td>1705</td>\n",
       "      <td>1854</td>\n",
       "      <td>169.0</td>\n",
       "      <td>844.0</td>\n",
       "      <td>3.0</td>\n",
       "    </tr>\n",
       "    <tr>\n",
       "      <th>1568913</th>\n",
       "      <td>737424</td>\n",
       "      <td>3535</td>\n",
       "      <td>13871</td>\n",
       "      <td>13930</td>\n",
       "      <td>905</td>\n",
       "      <td>1053</td>\n",
       "      <td>108.0</td>\n",
       "      <td>416.0</td>\n",
       "      <td>-21.0</td>\n",
       "    </tr>\n",
       "    <tr>\n",
       "      <th>1568914</th>\n",
       "      <td>737424</td>\n",
       "      <td>3536</td>\n",
       "      <td>11278</td>\n",
       "      <td>11618</td>\n",
       "      <td>1955</td>\n",
       "      <td>2130</td>\n",
       "      <td>95.0</td>\n",
       "      <td>199.0</td>\n",
       "      <td>-24.0</td>\n",
       "    </tr>\n",
       "    <tr>\n",
       "      <th>1568902</th>\n",
       "      <td>737424</td>\n",
       "      <td>3523</td>\n",
       "      <td>11618</td>\n",
       "      <td>13198</td>\n",
       "      <td>1110</td>\n",
       "      <td>1346</td>\n",
       "      <td>216.0</td>\n",
       "      <td>1092.0</td>\n",
       "      <td>-29.0</td>\n",
       "    </tr>\n",
       "    <tr>\n",
       "      <th>1571403</th>\n",
       "      <td>737424</td>\n",
       "      <td>3765</td>\n",
       "      <td>13930</td>\n",
       "      <td>10408</td>\n",
       "      <td>1405</td>\n",
       "      <td>1514</td>\n",
       "      <td>69.0</td>\n",
       "      <td>161.0</td>\n",
       "      <td>27.0</td>\n",
       "    </tr>\n",
       "  </tbody>\n",
       "</table>\n",
       "<p>1571404 rows × 9 columns</p>\n",
       "</div>"
      ],
      "text/plain": [
       "         fl_date  mkt_carrier_fl_num  origin_airport_id  dest_airport_id  \\\n",
       "0         737060                5611              14689            12892   \n",
       "2694      737060                4902              11618            13485   \n",
       "2695      737060                4901              12264            10990   \n",
       "2696      737060                4900              11618            12264   \n",
       "2697      737060                4880              11618            11066   \n",
       "...          ...                 ...                ...              ...   \n",
       "1568912   737424                3534              12339            12266   \n",
       "1568913   737424                3535              13871            13930   \n",
       "1568914   737424                3536              11278            11618   \n",
       "1568902   737424                3523              11618            13198   \n",
       "1571403   737424                3765              13930            10408   \n",
       "\n",
       "         crs_dep_time  crs_arr_time  crs_elapsed_time  distance  arr_delay  \n",
       "0                1915          2017              62.0      89.0      -23.0  \n",
       "2694              918          1106             168.0     799.0        9.0  \n",
       "2695             1745          1841              56.0      77.0      -15.0  \n",
       "2696             1855          2024              89.0     212.0      -17.0  \n",
       "2697              802          1004             122.0     463.0        0.0  \n",
       "...               ...           ...               ...       ...        ...  \n",
       "1568912          1705          1854             169.0     844.0        3.0  \n",
       "1568913           905          1053             108.0     416.0      -21.0  \n",
       "1568914          1955          2130              95.0     199.0      -24.0  \n",
       "1568902          1110          1346             216.0    1092.0      -29.0  \n",
       "1571403          1405          1514              69.0     161.0       27.0  \n",
       "\n",
       "[1571404 rows x 9 columns]"
      ]
     },
     "execution_count": 55,
     "metadata": {},
     "output_type": "execute_result"
    }
   ],
   "source": [
    "make_dates_ordinal(flights_data, 'fl_date')"
   ]
  },
  {
   "cell_type": "code",
   "execution_count": 56,
   "metadata": {},
   "outputs": [
    {
     "data": {
      "text/plain": [
       "fl_date                 int64\n",
       "mkt_carrier_fl_num      int64\n",
       "origin_airport_id       int64\n",
       "dest_airport_id         int64\n",
       "crs_dep_time            int64\n",
       "crs_arr_time            int64\n",
       "crs_elapsed_time      float64\n",
       "distance              float64\n",
       "arr_delay             float64\n",
       "dtype: object"
      ]
     },
     "execution_count": 56,
     "metadata": {},
     "output_type": "execute_result"
    }
   ],
   "source": [
    "flights_data.dtypes"
   ]
  },
  {
   "cell_type": "code",
   "execution_count": 27,
   "metadata": {},
   "outputs": [],
   "source": [
    "# flights_data['fl_date'] = flights_data['fl_date'].map(dt.datetime.toordinal)\n",
    "# flights_data.dtypes"
   ]
  },
  {
   "cell_type": "markdown",
   "metadata": {},
   "source": [
    "Check for NaN values:"
   ]
  },
  {
   "cell_type": "code",
   "execution_count": 57,
   "metadata": {},
   "outputs": [
    {
     "data": {
      "text/plain": [
       "fl_date                   0\n",
       "mkt_carrier_fl_num        0\n",
       "origin_airport_id         0\n",
       "dest_airport_id           0\n",
       "crs_dep_time              0\n",
       "crs_arr_time              0\n",
       "crs_elapsed_time          9\n",
       "distance                  0\n",
       "arr_delay             42491\n",
       "dtype: int64"
      ]
     },
     "execution_count": 57,
     "metadata": {},
     "output_type": "execute_result"
    }
   ],
   "source": [
    "flights_data.isna().sum()"
   ]
  },
  {
   "cell_type": "code",
   "execution_count": 58,
   "metadata": {},
   "outputs": [
    {
     "data": {
      "text/plain": [
       "(1571404, 9)"
      ]
     },
     "execution_count": 58,
     "metadata": {},
     "output_type": "execute_result"
    }
   ],
   "source": [
    "flights_data.shape"
   ]
  },
  {
   "cell_type": "code",
   "execution_count": 30,
   "metadata": {},
   "outputs": [
    {
     "data": {
      "text/plain": [
       "2.7040150082346743"
      ]
     },
     "execution_count": 30,
     "metadata": {},
     "output_type": "execute_result"
    }
   ],
   "source": [
    "(42491/1571404)*100"
   ]
  },
  {
   "cell_type": "markdown",
   "metadata": {},
   "source": [
    "Let's take a look at the arr_delay data, to see what we should do with those NaN values:"
   ]
  },
  {
   "cell_type": "code",
   "execution_count": 59,
   "metadata": {},
   "outputs": [
    {
     "data": {
      "text/plain": [
       "count    1.528913e+06\n",
       "mean     1.067793e+01\n",
       "std      6.588224e+01\n",
       "min     -9.100000e+01\n",
       "25%     -1.600000e+01\n",
       "50%     -6.000000e+00\n",
       "75%      1.100000e+01\n",
       "max      1.909000e+03\n",
       "Name: arr_delay, dtype: float64"
      ]
     },
     "execution_count": 59,
     "metadata": {},
     "output_type": "execute_result"
    }
   ],
   "source": [
    "flights_data['arr_delay'].describe()"
   ]
  },
  {
   "cell_type": "code",
   "execution_count": 65,
   "metadata": {},
   "outputs": [
    {
     "data": {
      "text/plain": [
       "<seaborn.axisgrid.FacetGrid at 0x7ff6eeb929d0>"
      ]
     },
     "execution_count": 65,
     "metadata": {},
     "output_type": "execute_result"
    },
    {
     "data": {
      "image/png": "[encoded data removed]",
      "text/plain": [
       "<Figure size 360x360 with 1 Axes>"
      ]
     },
     "metadata": {
      "needs_background": "light"
     },
     "output_type": "display_data"
    }
   ],
   "source": [
    "sns.displot(flights_data[flights_data['arr_delay'] < 100]['arr_delay'].sample(n=100000))"
   ]
  },
  {
   "cell_type": "markdown",
   "metadata": {},
   "source": [
    "Calculating the IQR range, and calculating the mean without taking outliers into consideration:"
   ]
  },
  {
   "cell_type": "markdown",
   "metadata": {},
   "source": [
    "Let's replace missing value with the mean previously found. "
   ]
  },
  {
   "cell_type": "code",
   "execution_count": 35,
   "metadata": {},
   "outputs": [],
   "source": [
    "# pd.set_option('display.max_columns', None)\n",
    "# flights_data = pd.read_csv('UA flights 2019.csv',parse_dates=[0])\n",
    "# flights_data = flights_data.sort_values(['fl_date'])"
   ]
  },
  {
   "cell_type": "code",
   "execution_count": 42,
   "metadata": {},
   "outputs": [],
   "source": [
    "def replace_nan_with_meanf(df,column):\n",
    "    \"\"\"\n",
    "    This function replaces all NaN values for a given column in a dataframe with the mean of the column values,\n",
    "        _without_ taking outliers into consideration when calculating said mean.\n",
    "    Args:\n",
    "        df - Pandas DataFrame \n",
    "        column - column of DataFrame, input as a string. \n",
    "    Output:\n",
    "        Processed DataFrame is returned.\n",
    "    \"\"\"\n",
    "    # The .describe() method for Pandas DataFrames outputs a Pandas Series; index number 4 corresponds to \n",
    "    # Quartile 1, index number 6 to Quartile 3. The Inter-Quartile Range (IQR) is then calculated as Q3 - Q1.\n",
    "    Q1 = df[column].describe()[4]\n",
    "    Q3 = df[column].describe()[6]\n",
    "    IQR = float(Q3 - Q1)\n",
    "    # An outlier threshold is calculated as 1.5 times the IQR. Any value that is below Q1 minus the threshold,\n",
    "    # or above Q3 plus the threshold, is considered an outlier. \n",
    "    outlier_threshold = 1.5 * IQR\n",
    "    lower_limit = Q1 - outlier_threshold\n",
    "    print(lower_limit)\n",
    "    upper_limit = Q3 + outlier_threshold\n",
    "    print(upper_limit)\n",
    "    \n",
    "    # Use boolean operators to define subset of column values that exclude outliers\n",
    "    subset_without_outliers = df[(df[column] > lower_limit) & (df[column] < upper_limit)][column]\n",
    "    \n",
    "    # Calculate the mean for said subset. \n",
    "    mean_without_outliers = subset_without_outliers.mean()\n",
    "    \n",
    "    # Replace NaN values with previously calculated mean, using .fillna() Pandas method.\n",
    "    df[column].fillna(mean_without_outliers,inplace=True)\n",
    "    \n",
    "    # Return processed DataFrame\n",
    "    return df"
   ]
  },
  {
   "cell_type": "code",
   "execution_count": 43,
   "metadata": {},
   "outputs": [
    {
     "data": {
      "text/plain": [
       "fl_date               0\n",
       "mkt_carrier_fl_num    0\n",
       "origin_airport_id     0\n",
       "dest_airport_id       0\n",
       "crs_dep_time          0\n",
       "crs_arr_time          0\n",
       "crs_elapsed_time      9\n",
       "distance              0\n",
       "arr_delay             0\n",
       "dtype: int64"
      ]
     },
     "execution_count": 43,
     "metadata": {},
     "output_type": "execute_result"
    }
   ],
   "source": [
    "flights_data.isna().sum()"
   ]
  },
  {
   "cell_type": "code",
   "execution_count": 44,
   "metadata": {},
   "outputs": [
    {
     "data": {
      "text/plain": [
       "fl_date               0\n",
       "mkt_carrier_fl_num    0\n",
       "origin_airport_id     0\n",
       "dest_airport_id       0\n",
       "crs_dep_time          0\n",
       "crs_arr_time          0\n",
       "crs_elapsed_time      9\n",
       "distance              0\n",
       "arr_delay             0\n",
       "dtype: int64"
      ]
     },
     "execution_count": 44,
     "metadata": {},
     "output_type": "execute_result"
    }
   ],
   "source": [
    "tester = flights_data\n",
    "tester.isna().sum()"
   ]
  },
  {
   "cell_type": "code",
   "execution_count": 45,
   "metadata": {},
   "outputs": [
    {
     "name": "stdout",
     "output_type": "stream",
     "text": [
      "-55.0\n",
      "49.0\n"
     ]
    },
    {
     "data": {
      "text/html": [
       "<div>\n",
       "<style scoped>\n",
       "    .dataframe tbody tr th:only-of-type {\n",
       "        vertical-align: middle;\n",
       "    }\n",
       "\n",
       "    .dataframe tbody tr th {\n",
       "        vertical-align: top;\n",
       "    }\n",
       "\n",
       "    .dataframe thead th {\n",
       "        text-align: right;\n",
       "    }\n",
       "</style>\n",
       "<table border=\"1\" class=\"dataframe\">\n",
       "  <thead>\n",
       "    <tr style=\"text-align: right;\">\n",
       "      <th></th>\n",
       "      <th>fl_date</th>\n",
       "      <th>mkt_carrier_fl_num</th>\n",
       "      <th>origin_airport_id</th>\n",
       "      <th>dest_airport_id</th>\n",
       "      <th>crs_dep_time</th>\n",
       "      <th>crs_arr_time</th>\n",
       "      <th>crs_elapsed_time</th>\n",
       "      <th>distance</th>\n",
       "      <th>arr_delay</th>\n",
       "    </tr>\n",
       "  </thead>\n",
       "  <tbody>\n",
       "    <tr>\n",
       "      <th>0</th>\n",
       "      <td>737060</td>\n",
       "      <td>5611</td>\n",
       "      <td>14689</td>\n",
       "      <td>12892</td>\n",
       "      <td>1915</td>\n",
       "      <td>2017</td>\n",
       "      <td>62.0</td>\n",
       "      <td>89.0</td>\n",
       "      <td>-23.0</td>\n",
       "    </tr>\n",
       "    <tr>\n",
       "      <th>2694</th>\n",
       "      <td>737060</td>\n",
       "      <td>4902</td>\n",
       "      <td>11618</td>\n",
       "      <td>13485</td>\n",
       "      <td>918</td>\n",
       "      <td>1106</td>\n",
       "      <td>168.0</td>\n",
       "      <td>799.0</td>\n",
       "      <td>9.0</td>\n",
       "    </tr>\n",
       "    <tr>\n",
       "      <th>2695</th>\n",
       "      <td>737060</td>\n",
       "      <td>4901</td>\n",
       "      <td>12264</td>\n",
       "      <td>10990</td>\n",
       "      <td>1745</td>\n",
       "      <td>1841</td>\n",
       "      <td>56.0</td>\n",
       "      <td>77.0</td>\n",
       "      <td>-15.0</td>\n",
       "    </tr>\n",
       "    <tr>\n",
       "      <th>2696</th>\n",
       "      <td>737060</td>\n",
       "      <td>4900</td>\n",
       "      <td>11618</td>\n",
       "      <td>12264</td>\n",
       "      <td>1855</td>\n",
       "      <td>2024</td>\n",
       "      <td>89.0</td>\n",
       "      <td>212.0</td>\n",
       "      <td>-17.0</td>\n",
       "    </tr>\n",
       "    <tr>\n",
       "      <th>2697</th>\n",
       "      <td>737060</td>\n",
       "      <td>4880</td>\n",
       "      <td>11618</td>\n",
       "      <td>11066</td>\n",
       "      <td>802</td>\n",
       "      <td>1004</td>\n",
       "      <td>122.0</td>\n",
       "      <td>463.0</td>\n",
       "      <td>0.0</td>\n",
       "    </tr>\n",
       "    <tr>\n",
       "      <th>...</th>\n",
       "      <td>...</td>\n",
       "      <td>...</td>\n",
       "      <td>...</td>\n",
       "      <td>...</td>\n",
       "      <td>...</td>\n",
       "      <td>...</td>\n",
       "      <td>...</td>\n",
       "      <td>...</td>\n",
       "      <td>...</td>\n",
       "    </tr>\n",
       "    <tr>\n",
       "      <th>1568912</th>\n",
       "      <td>737424</td>\n",
       "      <td>3534</td>\n",
       "      <td>12339</td>\n",
       "      <td>12266</td>\n",
       "      <td>1705</td>\n",
       "      <td>1854</td>\n",
       "      <td>169.0</td>\n",
       "      <td>844.0</td>\n",
       "      <td>3.0</td>\n",
       "    </tr>\n",
       "    <tr>\n",
       "      <th>1568913</th>\n",
       "      <td>737424</td>\n",
       "      <td>3535</td>\n",
       "      <td>13871</td>\n",
       "      <td>13930</td>\n",
       "      <td>905</td>\n",
       "      <td>1053</td>\n",
       "      <td>108.0</td>\n",
       "      <td>416.0</td>\n",
       "      <td>-21.0</td>\n",
       "    </tr>\n",
       "    <tr>\n",
       "      <th>1568914</th>\n",
       "      <td>737424</td>\n",
       "      <td>3536</td>\n",
       "      <td>11278</td>\n",
       "      <td>11618</td>\n",
       "      <td>1955</td>\n",
       "      <td>2130</td>\n",
       "      <td>95.0</td>\n",
       "      <td>199.0</td>\n",
       "      <td>-24.0</td>\n",
       "    </tr>\n",
       "    <tr>\n",
       "      <th>1568902</th>\n",
       "      <td>737424</td>\n",
       "      <td>3523</td>\n",
       "      <td>11618</td>\n",
       "      <td>13198</td>\n",
       "      <td>1110</td>\n",
       "      <td>1346</td>\n",
       "      <td>216.0</td>\n",
       "      <td>1092.0</td>\n",
       "      <td>-29.0</td>\n",
       "    </tr>\n",
       "    <tr>\n",
       "      <th>1571403</th>\n",
       "      <td>737424</td>\n",
       "      <td>3765</td>\n",
       "      <td>13930</td>\n",
       "      <td>10408</td>\n",
       "      <td>1405</td>\n",
       "      <td>1514</td>\n",
       "      <td>69.0</td>\n",
       "      <td>161.0</td>\n",
       "      <td>27.0</td>\n",
       "    </tr>\n",
       "  </tbody>\n",
       "</table>\n",
       "<p>1571404 rows × 9 columns</p>\n",
       "</div>"
      ],
      "text/plain": [
       "         fl_date  mkt_carrier_fl_num  origin_airport_id  dest_airport_id  \\\n",
       "0         737060                5611              14689            12892   \n",
       "2694      737060                4902              11618            13485   \n",
       "2695      737060                4901              12264            10990   \n",
       "2696      737060                4900              11618            12264   \n",
       "2697      737060                4880              11618            11066   \n",
       "...          ...                 ...                ...              ...   \n",
       "1568912   737424                3534              12339            12266   \n",
       "1568913   737424                3535              13871            13930   \n",
       "1568914   737424                3536              11278            11618   \n",
       "1568902   737424                3523              11618            13198   \n",
       "1571403   737424                3765              13930            10408   \n",
       "\n",
       "         crs_dep_time  crs_arr_time  crs_elapsed_time  distance  arr_delay  \n",
       "0                1915          2017              62.0      89.0      -23.0  \n",
       "2694              918          1106             168.0     799.0        9.0  \n",
       "2695             1745          1841              56.0      77.0      -15.0  \n",
       "2696             1855          2024              89.0     212.0      -17.0  \n",
       "2697              802          1004             122.0     463.0        0.0  \n",
       "...               ...           ...               ...       ...        ...  \n",
       "1568912          1705          1854             169.0     844.0        3.0  \n",
       "1568913           905          1053             108.0     416.0      -21.0  \n",
       "1568914          1955          2130              95.0     199.0      -24.0  \n",
       "1568902          1110          1346             216.0    1092.0      -29.0  \n",
       "1571403          1405          1514              69.0     161.0       27.0  \n",
       "\n",
       "[1571404 rows x 9 columns]"
      ]
     },
     "execution_count": 45,
     "metadata": {},
     "output_type": "execute_result"
    }
   ],
   "source": [
    "replace_nan_with_meanf(tester,'arr_delay')"
   ]
  },
  {
   "cell_type": "code",
   "execution_count": 130,
   "metadata": {},
   "outputs": [
    {
     "data": {
      "text/plain": [
       "fl_date               0\n",
       "mkt_carrier_fl_num    0\n",
       "origin_airport_id     0\n",
       "dest_airport_id       0\n",
       "crs_dep_time          0\n",
       "crs_arr_time          0\n",
       "crs_elapsed_time      9\n",
       "distance              0\n",
       "arr_delay             0\n",
       "dtype: int64"
      ]
     },
     "execution_count": 130,
     "metadata": {},
     "output_type": "execute_result"
    }
   ],
   "source": [
    "flights_data.isna().sum()"
   ]
  },
  {
   "cell_type": "code",
   "execution_count": null,
   "metadata": {},
   "outputs": [],
   "source": []
  },
  {
   "cell_type": "code",
   "execution_count": 120,
   "metadata": {},
   "outputs": [],
   "source": [
    "X = flights_data[training_features]\n",
    "y = flights_data['arr_delay']"
   ]
  },
  {
   "cell_type": "code",
   "execution_count": 121,
   "metadata": {},
   "outputs": [
    {
     "data": {
      "text/html": [
       "<div>\n",
       "<style scoped>\n",
       "    .dataframe tbody tr th:only-of-type {\n",
       "        vertical-align: middle;\n",
       "    }\n",
       "\n",
       "    .dataframe tbody tr th {\n",
       "        vertical-align: top;\n",
       "    }\n",
       "\n",
       "    .dataframe thead th {\n",
       "        text-align: right;\n",
       "    }\n",
       "</style>\n",
       "<table border=\"1\" class=\"dataframe\">\n",
       "  <thead>\n",
       "    <tr style=\"text-align: right;\">\n",
       "      <th></th>\n",
       "      <th>fl_date</th>\n",
       "      <th>mkt_carrier_fl_num</th>\n",
       "      <th>tail_num</th>\n",
       "      <th>origin_airport_id</th>\n",
       "      <th>dest_airport_id</th>\n",
       "      <th>crs_dep_time</th>\n",
       "      <th>crs_arr_time</th>\n",
       "      <th>crs_elapsed_time</th>\n",
       "      <th>distance</th>\n",
       "    </tr>\n",
       "  </thead>\n",
       "  <tbody>\n",
       "    <tr>\n",
       "      <th>1568914</th>\n",
       "      <td>2019-12-31</td>\n",
       "      <td>3536</td>\n",
       "      <td>N732YX</td>\n",
       "      <td>11278</td>\n",
       "      <td>11618</td>\n",
       "      <td>1955</td>\n",
       "      <td>2130</td>\n",
       "      <td>95.0</td>\n",
       "      <td>199.0</td>\n",
       "    </tr>\n",
       "    <tr>\n",
       "      <th>1568902</th>\n",
       "      <td>2019-12-31</td>\n",
       "      <td>3523</td>\n",
       "      <td>N650RW</td>\n",
       "      <td>11618</td>\n",
       "      <td>13198</td>\n",
       "      <td>1110</td>\n",
       "      <td>1346</td>\n",
       "      <td>216.0</td>\n",
       "      <td>1092.0</td>\n",
       "    </tr>\n",
       "    <tr>\n",
       "      <th>1571403</th>\n",
       "      <td>2019-12-31</td>\n",
       "      <td>3765</td>\n",
       "      <td>N416AW</td>\n",
       "      <td>13930</td>\n",
       "      <td>10408</td>\n",
       "      <td>1405</td>\n",
       "      <td>1514</td>\n",
       "      <td>69.0</td>\n",
       "      <td>161.0</td>\n",
       "    </tr>\n",
       "  </tbody>\n",
       "</table>\n",
       "</div>"
      ],
      "text/plain": [
       "           fl_date  mkt_carrier_fl_num tail_num  origin_airport_id  \\\n",
       "1568914 2019-12-31                3536   N732YX              11278   \n",
       "1568902 2019-12-31                3523   N650RW              11618   \n",
       "1571403 2019-12-31                3765   N416AW              13930   \n",
       "\n",
       "         dest_airport_id  crs_dep_time  crs_arr_time  crs_elapsed_time  \\\n",
       "1568914            11618          1955          2130              95.0   \n",
       "1568902            13198          1110          1346             216.0   \n",
       "1571403            10408          1405          1514              69.0   \n",
       "\n",
       "         distance  \n",
       "1568914     199.0  \n",
       "1568902    1092.0  \n",
       "1571403     161.0  "
      ]
     },
     "execution_count": 121,
     "metadata": {},
     "output_type": "execute_result"
    }
   ],
   "source": [
    "X.tail(3)"
   ]
  },
  {
   "cell_type": "code",
   "execution_count": 122,
   "metadata": {},
   "outputs": [
    {
     "data": {
      "text/plain": [
       "(1571404, 9)"
      ]
     },
     "execution_count": 122,
     "metadata": {},
     "output_type": "execute_result"
    }
   ],
   "source": [
    "X.shape"
   ]
  },
  {
   "cell_type": "markdown",
   "metadata": {},
   "source": [
    "Check for null values"
   ]
  },
  {
   "cell_type": "code",
   "execution_count": 123,
   "metadata": {},
   "outputs": [
    {
     "data": {
      "text/plain": [
       "fl_date                   0\n",
       "mkt_carrier_fl_num        0\n",
       "tail_num              15775\n",
       "origin_airport_id         0\n",
       "dest_airport_id           0\n",
       "crs_dep_time              0\n",
       "crs_arr_time              0\n",
       "crs_elapsed_time          9\n",
       "distance                  0\n",
       "dtype: int64"
      ]
     },
     "execution_count": 123,
     "metadata": {},
     "output_type": "execute_result"
    }
   ],
   "source": [
    "X.isna().sum()"
   ]
  },
  {
   "cell_type": "code",
   "execution_count": 130,
   "metadata": {},
   "outputs": [],
   "source": [
    "X = X.dropna(axis=0,subset=['tail_num'])"
   ]
  },
  {
   "cell_type": "code",
   "execution_count": 131,
   "metadata": {},
   "outputs": [
    {
     "data": {
      "text/plain": [
       "fl_date               0\n",
       "mkt_carrier_fl_num    0\n",
       "tail_num              0\n",
       "origin_airport_id     0\n",
       "dest_airport_id       0\n",
       "crs_dep_time          0\n",
       "crs_arr_time          0\n",
       "crs_elapsed_time      2\n",
       "distance              0\n",
       "dtype: int64"
      ]
     },
     "execution_count": 131,
     "metadata": {},
     "output_type": "execute_result"
    }
   ],
   "source": [
    "X.isna().sum()"
   ]
  },
  {
   "cell_type": "code",
   "execution_count": 124,
   "metadata": {},
   "outputs": [
    {
     "data": {
      "text/plain": [
       "42491"
      ]
     },
     "execution_count": 124,
     "metadata": {},
     "output_type": "execute_result"
    }
   ],
   "source": [
    "y.isna().sum()"
   ]
  },
  {
   "cell_type": "code",
   "execution_count": 132,
   "metadata": {},
   "outputs": [
    {
     "data": {
      "text/plain": [
       "0         -23.0\n",
       "2694        9.0\n",
       "2695      -15.0\n",
       "2696      -17.0\n",
       "2697        0.0\n",
       "           ... \n",
       "1568912     3.0\n",
       "1568913   -21.0\n",
       "1568914   -24.0\n",
       "1568902   -29.0\n",
       "1571403    27.0\n",
       "Name: arr_delay, Length: 1571404, dtype: float64"
      ]
     },
     "execution_count": 132,
     "metadata": {},
     "output_type": "execute_result"
    }
   ],
   "source": [
    "y"
   ]
  },
  {
   "cell_type": "markdown",
   "metadata": {},
   "source": [
    "Instantiate our model:"
   ]
  },
  {
   "cell_type": "code",
   "execution_count": 137,
   "metadata": {},
   "outputs": [],
   "source": [
    "linreg = LinearRegression()"
   ]
  },
  {
   "cell_type": "code",
   "execution_count": 142,
   "metadata": {},
   "outputs": [
    {
     "ename": "TypeError",
     "evalue": "invalid type promotion",
     "output_type": "error",
     "traceback": [
      "\u001b[0;31m---------------------------------------------------------------------------\u001b[0m",
      "\u001b[0;31mTypeError\u001b[0m                                 Traceback (most recent call last)",
      "\u001b[0;32m<ipython-input-142-050c0f58279f>\u001b[0m in \u001b[0;36m<module>\u001b[0;34m\u001b[0m\n\u001b[0;32m----> 1\u001b[0;31m \u001b[0mlinreg\u001b[0m\u001b[0;34m.\u001b[0m\u001b[0mfit\u001b[0m\u001b[0;34m(\u001b[0m\u001b[0mX_train\u001b[0m\u001b[0;34m,\u001b[0m\u001b[0my_train\u001b[0m\u001b[0;34m)\u001b[0m\u001b[0;34m\u001b[0m\u001b[0;34m\u001b[0m\u001b[0m\n\u001b[0m",
      "\u001b[0;32m~/opt/anaconda3/lib/python3.7/site-packages/sklearn/linear_model/_base.py\u001b[0m in \u001b[0;36mfit\u001b[0;34m(self, X, y, sample_weight)\u001b[0m\n\u001b[1;32m    490\u001b[0m         \u001b[0mn_jobs_\u001b[0m \u001b[0;34m=\u001b[0m \u001b[0mself\u001b[0m\u001b[0;34m.\u001b[0m\u001b[0mn_jobs\u001b[0m\u001b[0;34m\u001b[0m\u001b[0;34m\u001b[0m\u001b[0m\n\u001b[1;32m    491\u001b[0m         X, y = check_X_y(X, y, accept_sparse=['csr', 'csc', 'coo'],\n\u001b[0;32m--> 492\u001b[0;31m                          y_numeric=True, multi_output=True)\n\u001b[0m\u001b[1;32m    493\u001b[0m \u001b[0;34m\u001b[0m\u001b[0m\n\u001b[1;32m    494\u001b[0m         \u001b[0;32mif\u001b[0m \u001b[0msample_weight\u001b[0m \u001b[0;32mis\u001b[0m \u001b[0;32mnot\u001b[0m \u001b[0;32mNone\u001b[0m\u001b[0;34m:\u001b[0m\u001b[0;34m\u001b[0m\u001b[0;34m\u001b[0m\u001b[0m\n",
      "\u001b[0;32m~/opt/anaconda3/lib/python3.7/site-packages/sklearn/utils/validation.py\u001b[0m in \u001b[0;36mcheck_X_y\u001b[0;34m(X, y, accept_sparse, accept_large_sparse, dtype, order, copy, force_all_finite, ensure_2d, allow_nd, multi_output, ensure_min_samples, ensure_min_features, y_numeric, warn_on_dtype, estimator)\u001b[0m\n\u001b[1;32m    753\u001b[0m                     \u001b[0mensure_min_features\u001b[0m\u001b[0;34m=\u001b[0m\u001b[0mensure_min_features\u001b[0m\u001b[0;34m,\u001b[0m\u001b[0;34m\u001b[0m\u001b[0;34m\u001b[0m\u001b[0m\n\u001b[1;32m    754\u001b[0m                     \u001b[0mwarn_on_dtype\u001b[0m\u001b[0;34m=\u001b[0m\u001b[0mwarn_on_dtype\u001b[0m\u001b[0;34m,\u001b[0m\u001b[0;34m\u001b[0m\u001b[0;34m\u001b[0m\u001b[0m\n\u001b[0;32m--> 755\u001b[0;31m                     estimator=estimator)\n\u001b[0m\u001b[1;32m    756\u001b[0m     \u001b[0;32mif\u001b[0m \u001b[0mmulti_output\u001b[0m\u001b[0;34m:\u001b[0m\u001b[0;34m\u001b[0m\u001b[0;34m\u001b[0m\u001b[0m\n\u001b[1;32m    757\u001b[0m         y = check_array(y, 'csr', force_all_finite=True, ensure_2d=False,\n",
      "\u001b[0;32m~/opt/anaconda3/lib/python3.7/site-packages/sklearn/utils/validation.py\u001b[0m in \u001b[0;36mcheck_array\u001b[0;34m(array, accept_sparse, accept_large_sparse, dtype, order, copy, force_all_finite, ensure_2d, allow_nd, ensure_min_samples, ensure_min_features, warn_on_dtype, estimator)\u001b[0m\n\u001b[1;32m    473\u001b[0m \u001b[0;34m\u001b[0m\u001b[0m\n\u001b[1;32m    474\u001b[0m         \u001b[0;32mif\u001b[0m \u001b[0mall\u001b[0m\u001b[0;34m(\u001b[0m\u001b[0misinstance\u001b[0m\u001b[0;34m(\u001b[0m\u001b[0mdtype\u001b[0m\u001b[0;34m,\u001b[0m \u001b[0mnp\u001b[0m\u001b[0;34m.\u001b[0m\u001b[0mdtype\u001b[0m\u001b[0;34m)\u001b[0m \u001b[0;32mfor\u001b[0m \u001b[0mdtype\u001b[0m \u001b[0;32min\u001b[0m \u001b[0mdtypes_orig\u001b[0m\u001b[0;34m)\u001b[0m\u001b[0;34m:\u001b[0m\u001b[0;34m\u001b[0m\u001b[0;34m\u001b[0m\u001b[0m\n\u001b[0;32m--> 475\u001b[0;31m             \u001b[0mdtype_orig\u001b[0m \u001b[0;34m=\u001b[0m \u001b[0mnp\u001b[0m\u001b[0;34m.\u001b[0m\u001b[0mresult_type\u001b[0m\u001b[0;34m(\u001b[0m\u001b[0;34m*\u001b[0m\u001b[0mdtypes_orig\u001b[0m\u001b[0;34m)\u001b[0m\u001b[0;34m\u001b[0m\u001b[0;34m\u001b[0m\u001b[0m\n\u001b[0m\u001b[1;32m    476\u001b[0m \u001b[0;34m\u001b[0m\u001b[0m\n\u001b[1;32m    477\u001b[0m     \u001b[0;32mif\u001b[0m \u001b[0mdtype_numeric\u001b[0m\u001b[0;34m:\u001b[0m\u001b[0;34m\u001b[0m\u001b[0;34m\u001b[0m\u001b[0m\n",
      "\u001b[0;32m<__array_function__ internals>\u001b[0m in \u001b[0;36mresult_type\u001b[0;34m(*args, **kwargs)\u001b[0m\n",
      "\u001b[0;31mTypeError\u001b[0m: invalid type promotion"
     ]
    }
   ],
   "source": [
    "linreg.fit(X_train,y_train)"
   ]
  },
  {
   "cell_type": "code",
   "execution_count": null,
   "metadata": {},
   "outputs": [],
   "source": []
  }
 ],
 "metadata": {
  "kernelspec": {
   "display_name": "Python 3",
   "language": "python",
   "name": "python3"
  },
  "language_info": {
   "codemirror_mode": {
    "name": "ipython",
    "version": 3
   },
   "file_extension": ".py",
   "mimetype": "text/x-python",
   "name": "python",
   "nbconvert_exporter": "python",
   "pygments_lexer": "ipython3",
   "version": "3.7.7"
  }
 },
 "nbformat": 4,
 "nbformat_minor": 4
}
