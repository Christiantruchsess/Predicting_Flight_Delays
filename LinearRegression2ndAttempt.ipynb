{
 "cells": [
  {
   "cell_type": "code",
   "execution_count": 46,
   "id": "enhanced-keyboard",
   "metadata": {},
   "outputs": [],
   "source": [
    "import numpy as np\n",
    "import pandas as pd\n",
    "from sklearn.linear_model import LinearRegression\n",
    "from sklearn.model_selection import train_test_split\n",
    "import local_python_packages.features_adding as local"
   ]
  },
  {
   "cell_type": "code",
   "execution_count": 38,
   "id": "respective-armstrong",
   "metadata": {},
   "outputs": [],
   "source": [
    "pd.set_option('display.max_columns', None)\n",
    "flights_data = pd.read_csv('UA flights 2019.csv',parse_dates=[0])\n",
    "flights_data = flights_data.sort_values(['fl_date'])"
   ]
  },
  {
   "cell_type": "code",
   "execution_count": 39,
   "id": "dried-inventory",
   "metadata": {},
   "outputs": [],
   "source": [
    "flights_data = local.distill_features(flights_data,desired_features=\n",
    "                                     ['fl_date', 'mkt_carrier_fl_num', 'origin_airport_id', 'dest_airport_id','taxi_in','taxi_out', 'crs_dep_time', 'crs_arr_time', 'crs_elapsed_time', 'distance', 'arr_delay'])\n",
    "flights_data = local.make_month_dummies(flights_data,'fl_date')\n",
    "flights_data = local.make_dates_ordinal(flights_data,'fl_date')"
   ]
  },
  {
   "cell_type": "code",
   "execution_count": 40,
   "id": "connected-hunger",
   "metadata": {},
   "outputs": [
    {
     "data": {
      "text/plain": [
       "Index(['fl_date', 'mkt_carrier_fl_num', 'origin_airport_id', 'dest_airport_id',\n",
       "       'taxi_in', 'taxi_out', 'crs_dep_time', 'crs_arr_time',\n",
       "       'crs_elapsed_time', 'distance', 'arr_delay', 'month_1', 'month_2',\n",
       "       'month_3', 'month_4', 'month_5', 'month_6', 'month_7', 'month_8',\n",
       "       'month_9', 'month_10', 'month_11', 'month_12'],\n",
       "      dtype='object')"
      ]
     },
     "execution_count": 40,
     "metadata": {},
     "output_type": "execute_result"
    }
   ],
   "source": [
    "flights_data.columns"
   ]
  },
  {
   "cell_type": "code",
   "execution_count": 41,
   "id": "known-fence",
   "metadata": {},
   "outputs": [],
   "source": [
    "flights_data = local.distill_features(flights_data, desired_features=['fl_date','taxi_in','taxi_out','crs_elapsed_time','distance','arr_delay','month_1'\n",
    "                                                                     ,'month_2','month_3', 'month_4', 'month_5', 'month_6', 'month_7', 'month_8',\n",
    "                                                                    'month_9', 'month_10', 'month_11', 'month_12'])"
   ]
  },
  {
   "cell_type": "code",
   "execution_count": 43,
   "id": "private-gambling",
   "metadata": {},
   "outputs": [
    {
     "data": {
      "text/plain": [
       "Index(['fl_date', 'taxi_in', 'taxi_out', 'crs_elapsed_time', 'distance',\n",
       "       'arr_delay', 'month_1', 'month_2', 'month_3', 'month_4', 'month_5',\n",
       "       'month_6', 'month_7', 'month_8', 'month_9', 'month_10', 'month_11',\n",
       "       'month_12'],\n",
       "      dtype='object')"
      ]
     },
     "execution_count": 43,
     "metadata": {},
     "output_type": "execute_result"
    }
   ],
   "source": [
    "flights_data.columns"
   ]
  },
  {
   "cell_type": "code",
   "execution_count": 44,
   "id": "humanitarian-drain",
   "metadata": {},
   "outputs": [],
   "source": [
    "X = flights_data[['fl_date', 'taxi_in', 'taxi_out', 'crs_elapsed_time', 'distance',\n",
    "        'month_1', 'month_2', 'month_3', 'month_4', 'month_5',\n",
    "       'month_6', 'month_7', 'month_8', 'month_9', 'month_10', 'month_11',\n",
    "       'month_12']]\n",
    "y = flights_data['arr_delay']"
   ]
  },
  {
   "cell_type": "code",
   "execution_count": 48,
   "id": "cardiac-cylinder",
   "metadata": {},
   "outputs": [],
   "source": [
    "def train_split(X,y,train_ratio=0.80):\n",
    "    from sklearn.model_selection import train_test_split\n",
    "    X_train, X_test, y_train, y_test = train_test_split(X,y,train_size=train_ratio)\n",
    "    return [X_train,X_test,y_train,y_test]"
   ]
  },
  {
   "cell_type": "code",
   "execution_count": 57,
   "id": "absent-orange",
   "metadata": {},
   "outputs": [],
   "source": [
    "X_train, X_test, y_train, y_test = train_split(X,y)"
   ]
  },
  {
   "cell_type": "code",
   "execution_count": 47,
   "id": "informed-nightmare",
   "metadata": {},
   "outputs": [],
   "source": [
    "linreg = LinearRegression()"
   ]
  },
  {
   "cell_type": "code",
   "execution_count": null,
   "id": "color-worse",
   "metadata": {},
   "outputs": [],
   "source": []
  }
 ],
 "metadata": {
  "kernelspec": {
   "display_name": "Python 3",
   "language": "python",
   "name": "python3"
  },
  "language_info": {
   "codemirror_mode": {
    "name": "ipython",
    "version": 3
   },
   "file_extension": ".py",
   "mimetype": "text/x-python",
   "name": "python",
   "nbconvert_exporter": "python",
   "pygments_lexer": "ipython3",
   "version": "3.7.7"
  }
 },
 "nbformat": 4,
 "nbformat_minor": 5
}
